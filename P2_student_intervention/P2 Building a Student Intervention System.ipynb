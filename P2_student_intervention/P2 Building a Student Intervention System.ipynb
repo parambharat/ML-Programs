{
 "cells": [
  {
   "cell_type": "markdown",
   "metadata": {},
   "source": [
    "# Project 2: Supervised Learning\n",
    "### Building a Student Intervention System"
   ]
  },
  {
   "cell_type": "markdown",
   "metadata": {},
   "source": [
    "## Classification vs Regression\n",
    "\n",
    "Your goal is to identify students who might need early intervention - which type of supervised machine learning problem is this, classification or regression? Why?"
   ]
  },
  {
   "cell_type": "markdown",
   "metadata": {},
   "source": [
    "### _Classification_\n",
    "A machine learning problem where the learner's objective is to predict a discrete outcome is a classification problem. Here, the objective is to identify students who might need an early intervention, in machine learning terminology a **\"binary classification\"** problem. More concretely, given the data about a student i.e. the features that describe a student, the learner must be able to classify the student into **\"Passed\"** or **\"Failed\"** so that the learner may be used to further aid in deciding whether a student **\"Needs an early intervention\"** or **\"Doesn't\"**."
   ]
  },
  {
   "cell_type": "markdown",
   "metadata": {},
   "source": [
    "## Exploring the Data\n",
    "\n",
    "Let's go ahead and read in the student dataset first.\n",
    "\n",
    "_To execute a code cell, click inside it and press **Shift+Enter**._"
   ]
  },
  {
   "cell_type": "code",
   "execution_count": 1,
   "metadata": {
    "collapsed": false
   },
   "outputs": [],
   "source": [
    "# Import libraries\n",
    "import numpy as np\n",
    "import pandas as pd\n",
    "from IPython.display import display, HTML\n",
    "from collections import defaultdict"
   ]
  },
  {
   "cell_type": "code",
   "execution_count": 2,
   "metadata": {
    "collapsed": false
   },
   "outputs": [
    {
     "name": "stdout",
     "output_type": "stream",
     "text": [
      "Student data read successfully!\n"
     ]
    }
   ],
   "source": [
    "# Read student data\n",
    "student_data = pd.read_csv(\"student-data.csv\")\n",
    "print \"Student data read successfully!\"\n",
    "\n",
    "# Note: The last column 'passed' is the target/label, all other are feature columns"
   ]
  },
  {
   "cell_type": "markdown",
   "metadata": {},
   "source": [
    "Now, can you find out the following facts about the dataset?\n",
    "- Total number of students\n",
    "- Number of students who passed\n",
    "- Number of students who failed\n",
    "- Graduation rate of the class (%)\n",
    "- Number of features\n",
    "\n",
    "_Use the code block below to compute these values. Instructions/steps are marked using **TODO**s._"
   ]
  },
  {
   "cell_type": "code",
   "execution_count": 3,
   "metadata": {
    "collapsed": false
   },
   "outputs": [
    {
     "name": "stdout",
     "output_type": "stream",
     "text": [
      "Total number of students: 395\n",
      "Number of students who passed: 265\n",
      "Number of students who failed: 130\n",
      "Number of features: 30\n",
      "Graduation rate of the class: 67.09%\n"
     ]
    }
   ],
   "source": [
    "\"\"\"\n",
    "TODO: Compute desired values - replace each '?' \n",
    "with an appropriate expression/function call\n",
    "\"\"\"\n",
    "n_students = len(student_data.index)\n",
    "n_features = len(student_data.columns)-1\n",
    "n_passed = len(student_data[student_data.passed==\"yes\"].index)\n",
    "n_failed = n_students-n_passed\n",
    "grad_rate = float(n_passed)/n_students * 100\n",
    "print \"Total number of students: {}\".format(n_students)\n",
    "print \"Number of students who passed: {}\".format(n_passed)\n",
    "print \"Number of students who failed: {}\".format(n_failed)\n",
    "print \"Number of features: {}\".format(n_features)\n",
    "print \"Graduation rate of the class: {:.2f}%\".format(grad_rate)"
   ]
  },
  {
   "cell_type": "markdown",
   "metadata": {},
   "source": [
    "## Preparing the Data\n",
    "In this section, we will prepare the data for modeling, training and testing.\n",
    "\n",
    "### Identify feature and target columns\n",
    "It is often the case that the data you obtain contains non-numeric features. This can be a problem, as most machine learning algorithms expect numeric data to perform computations with.\n",
    "\n",
    "Let's first separate our data into feature and target columns, and see if any features are non-numeric.<br/>\n",
    "**Note**: For this dataset, the last column (`'passed'`) is the target or label we are trying to predict."
   ]
  },
  {
   "cell_type": "code",
   "execution_count": 4,
   "metadata": {
    "collapsed": false
   },
   "outputs": [
    {
     "name": "stdout",
     "output_type": "stream",
     "text": [
      "Feature column(s):-\n",
      "['school', 'sex', 'age', 'address', 'famsize', 'Pstatus', 'Medu', 'Fedu', 'Mjob', 'Fjob', 'reason', 'guardian', 'traveltime', 'studytime', 'failures', 'schoolsup', 'famsup', 'paid', 'activities', 'nursery', 'higher', 'internet', 'romantic', 'famrel', 'freetime', 'goout', 'Dalc', 'Walc', 'health', 'absences']\n",
      "\n",
      "Target column: passed\n"
     ]
    }
   ],
   "source": [
    "# Extract feature (X) and target (y) columns\n",
    "feature_cols = list(student_data.columns[:-1])  # all columns but last are features\n",
    "target_col = student_data.columns[-1]  # last column is the target/label\n",
    "print \"Feature column(s):-\\n{}\".format(feature_cols)\n",
    "print\n",
    "print \"Target column: {}\".format(target_col)"
   ]
  },
  {
   "cell_type": "code",
   "execution_count": 5,
   "metadata": {
    "collapsed": false
   },
   "outputs": [
    {
     "name": "stdout",
     "output_type": "stream",
     "text": [
      "\n",
      "Feature values:-\n",
      "  school sex  age address famsize Pstatus  Medu  Fedu     Mjob      Fjob  \\\n",
      "0     GP   F   18       U     GT3       A     4     4  at_home   teacher   \n",
      "1     GP   F   17       U     GT3       T     1     1  at_home     other   \n",
      "2     GP   F   15       U     LE3       T     1     1  at_home     other   \n",
      "3     GP   F   15       U     GT3       T     4     2   health  services   \n",
      "4     GP   F   16       U     GT3       T     3     3    other     other   \n",
      "\n",
      "    ...    higher internet  romantic  famrel  freetime goout Dalc Walc health  \\\n",
      "0   ...       yes       no        no       4         3     4    1    1      3   \n",
      "1   ...       yes      yes        no       5         3     3    1    1      3   \n",
      "2   ...       yes      yes        no       4         3     2    2    3      3   \n",
      "3   ...       yes      yes       yes       3         2     2    1    1      5   \n",
      "4   ...       yes       no        no       4         3     2    1    2      5   \n",
      "\n",
      "  absences  \n",
      "0        6  \n",
      "1        4  \n",
      "2       10  \n",
      "3        2  \n",
      "4        4  \n",
      "\n",
      "[5 rows x 30 columns]\n"
     ]
    }
   ],
   "source": [
    "X_all = student_data[feature_cols]  # feature values for all students\n",
    "y_all = student_data[target_col]  # corresponding targets/labels\n",
    "print \"\\nFeature values:-\"\n",
    "print X_all.head()  # print the first 5 rows"
   ]
  },
  {
   "cell_type": "markdown",
   "metadata": {},
   "source": [
    "### Preprocess feature columns\n",
    "\n",
    "As you can see, there are several non-numeric columns that need to be converted! Many of them are simply `yes`/`no`, e.g. `internet`. These can be reasonably converted into `1`/`0` (binary) values.\n",
    "\n",
    "Other columns, like `Mjob` and `Fjob`, have more than two values, and are known as _categorical variables_. The recommended way to handle such a column is to create as many columns as possible values (e.g. `Fjob_teacher`, `Fjob_other`, `Fjob_services`, etc.), and assign a `1` to one of them and `0` to all others.\n",
    "\n",
    "These generated columns are sometimes called _dummy variables_, and we will use the [`pandas.get_dummies()`](http://pandas.pydata.org/pandas-docs/stable/generated/pandas.get_dummies.html?highlight=get_dummies#pandas.get_dummies) function to perform this transformation."
   ]
  },
  {
   "cell_type": "code",
   "execution_count": 6,
   "metadata": {
    "collapsed": false
   },
   "outputs": [],
   "source": [
    "# Preprocess feature columns\n",
    "def preprocess_features(X):\n",
    "    \"\"\"\n",
    "    Function: Change the input categorical features into binary features\n",
    "            using the pandas get_dummies function\n",
    "    Params: \n",
    "        X: A pandas DataFrame containing the categorical features.\n",
    "    Returns:\n",
    "        outX: A pandas DataFrame with dummy variables created \n",
    "            in place of categorical features.\n",
    "    \"\"\"\n",
    "    \n",
    "    outX = pd.DataFrame(index=X.index)  # output dataframe, initially empty\n",
    "\n",
    "    # Check each column\n",
    "    for col, col_data in X.iteritems():\n",
    "        # If data type is non-numeric, try to replace all yes/no values with 1/0\n",
    "        if col_data.dtype == object:\n",
    "            col_data = col_data.replace(['yes', 'no'], [1, 0])\n",
    "        # Note: This should change the data type for yes/no columns to int\n",
    "\n",
    "        # If still non-numeric, convert to one or more dummy variables\n",
    "        if col_data.dtype == object:\n",
    "            col_data = pd.get_dummies(col_data, prefix=col)  # e.g. 'school' => 'school_GP', 'school_MS'\n",
    "\n",
    "        outX = outX.join(col_data)  # collect column(s) in output dataframe\n",
    "\n",
    "    return outX"
   ]
  },
  {
   "cell_type": "code",
   "execution_count": 7,
   "metadata": {
    "collapsed": false
   },
   "outputs": [
    {
     "name": "stdout",
     "output_type": "stream",
     "text": [
      "Processed feature columns (48):-\n",
      "['school_GP', 'school_MS', 'sex_F', 'sex_M', 'age', 'address_R', 'address_U', 'famsize_GT3', 'famsize_LE3', 'Pstatus_A', 'Pstatus_T', 'Medu', 'Fedu', 'Mjob_at_home', 'Mjob_health', 'Mjob_other', 'Mjob_services', 'Mjob_teacher', 'Fjob_at_home', 'Fjob_health', 'Fjob_other', 'Fjob_services', 'Fjob_teacher', 'reason_course', 'reason_home', 'reason_other', 'reason_reputation', 'guardian_father', 'guardian_mother', 'guardian_other', 'traveltime', 'studytime', 'failures', 'schoolsup', 'famsup', 'paid', 'activities', 'nursery', 'higher', 'internet', 'romantic', 'famrel', 'freetime', 'goout', 'Dalc', 'Walc', 'health', 'absences']\n"
     ]
    }
   ],
   "source": [
    "X_all = preprocess_features(X_all) #pre-process features\n",
    "y_all = y_all.replace(['yes','no'],[1,0]) #pre-process target labels\n",
    "print \"Processed feature columns ({}):-\\n{}\".format(len(X_all.columns), list(X_all.columns))"
   ]
  },
  {
   "cell_type": "markdown",
   "metadata": {},
   "source": [
    "### Split data into training and test sets\n",
    "\n",
    "So far, we have converted all _categorical_ features into numeric values. In this next step, we split the data (both features and corresponding labels) into training and test sets."
   ]
  },
  {
   "cell_type": "code",
   "execution_count": 8,
   "metadata": {
    "collapsed": true
   },
   "outputs": [],
   "source": [
    "from sklearn.cross_validation import train_test_split"
   ]
  },
  {
   "cell_type": "code",
   "execution_count": 9,
   "metadata": {
    "collapsed": false
   },
   "outputs": [
    {
     "name": "stdout",
     "output_type": "stream",
     "text": [
      "Training set: 300 samples\n",
      "Test set: 95 samples\n"
     ]
    }
   ],
   "source": [
    "# First, decide how many training vs test samples you want\n",
    "num_all = student_data.shape[0]  # same as len(student_data)\n",
    "num_train = 300  # about 75% of the data\n",
    "num_test = num_all - num_train\n",
    "\n",
    "# TODO: Then, select features (X) and corresponding labels (y) for the training and test sets\n",
    "# Note: Shuffle the data or randomly select samples to avoid any bias due to ordering in the dataset\n",
    "X_train,X_test,y_train,y_test = train_test_split(X_all,y_all,test_size=.24,random_state=42)\n",
    "print \"Training set: {} samples\".format(X_train.shape[0])\n",
    "print \"Test set: {} samples\".format(X_test.shape[0])\n",
    "# Note: If you need a validation set, extract it from within training data"
   ]
  },
  {
   "cell_type": "markdown",
   "metadata": {},
   "source": [
    "## Training and Evaluating Models\n",
    "Choose 3 supervised learning models that are available in scikit-learn, and appropriate for this problem. For each model:\n",
    "\n",
    "- What is the theoretical O(n) time & space complexity in terms of input size?\n",
    "- What are the general applications of this model? What are its strengths and weaknesses?\n",
    "- Given what you know about the data so far, why did you choose this model to apply?\n",
    "- Fit this model to the training data, try to predict labels (for both training and test sets), and measure the F<sub>1</sub> score. Repeat this process with different training set sizes (100, 200, 300), keeping test set constant.\n",
    "\n",
    "Produce a table showing training time, prediction time, F<sub>1</sub> score on training set and F<sub>1</sub> score on test set, for each training set size.\n",
    "\n",
    "Note: You need to produce 3 such tables - one for each model."
   ]
  },
  {
   "cell_type": "code",
   "execution_count": 10,
   "metadata": {
    "collapsed": false
   },
   "outputs": [],
   "source": [
    "# Train a model\n",
    "import time\n",
    "\n",
    "def train_classifier(clf, X_train, y_train):\n",
    "    \"\"\"\n",
    "    Function: Given the instance of a classifier and the training samples,target labels,\n",
    "            return the trained classifier and the time taken to train the classifier.\n",
    "    Params:\n",
    "        clf: Instance of a scikit-learn classifier.\n",
    "        X_train: The training data to fit the classifier instance with,\n",
    "                {array-like, sparse matrix}, shape (n_samples, n_features).\n",
    "        y_train: The target labels to train the classifier instance with,\n",
    "                array-like, shape (n_samples,)\n",
    "    Returns:\n",
    "        clf: The instance of a classifer trained using the training samples and target labels.\n",
    "        end-start: Time taken to train the classifier.\n",
    "    \"\"\"\n",
    "    \n",
    "    #print \"Training {}...\".format(clf.__class__.__name__)\n",
    "    start = time.time()\n",
    "    clf.fit(X_train, y_train)\n",
    "    end = time.time()\n",
    "    #print \"Done!\\nTraining time (secs): {:.3f}\".format(end - start)\n",
    "    return clf,end-start"
   ]
  },
  {
   "cell_type": "code",
   "execution_count": 11,
   "metadata": {
    "collapsed": false
   },
   "outputs": [
    {
     "name": "stdout",
     "output_type": "stream",
     "text": [
      "LogisticRegression(C=1.0, class_weight=None, dual=False, fit_intercept=True,\n",
      "          intercept_scaling=1, max_iter=100, multi_class='ovr', n_jobs=1,\n",
      "          penalty='l2', random_state=None, solver='liblinear', tol=0.0001,\n",
      "          verbose=0, warm_start=False)\n",
      "Training time (secs): 0.086\n"
     ]
    }
   ],
   "source": [
    "# TODO: Choose a model, import it and instantiate an object\n",
    "from sklearn.linear_model import LogisticRegression\n",
    "clf = LogisticRegression()\n",
    "\n",
    "# Fit model to training data\n",
    "clf,time_taken = train_classifier(clf, X_train, y_train)  # note: using entire training set here\n",
    "print clf # you can inspect the learned model by printing it\n",
    "print \"Training time (secs): {:.3f}\".format(time_taken) # time taken to train the classifier"
   ]
  },
  {
   "cell_type": "code",
   "execution_count": 12,
   "metadata": {
    "collapsed": false
   },
   "outputs": [],
   "source": [
    "# Predict on training set and compute F1 score\n",
    "from sklearn.metrics import f1_score\n",
    "\n",
    "def predict_labels(clf, features, target):\n",
    "    \"\"\"\n",
    "    Function: Given a trained classifier perform classification \n",
    "            on samples in features and compute the F1 score and error in classification.\n",
    "    Params:\n",
    "        clf: Instance of a scikit-learn trained classifier.\n",
    "        features: sample dataset to perdict the target labels,\n",
    "                {array-like, sparse matrix}, shape (n_samples, n_features)\n",
    "        target: Actual target labels of the sample dataset,\n",
    "                array-like, shape (n_samples,)\n",
    "    Returns: \n",
    "        end-start: Time taken to predict the target labels using the trained classifier.\n",
    "        f1_score : metric used to measure the performance of the classifier.\n",
    "    \"\"\"\n",
    "    #print \"Predicting labels using {}...\".format(clf.__class__.__name__)\n",
    "    start = time.time()\n",
    "    y_pred = clf.predict(features)\n",
    "    end = time.time()\n",
    "    #print \"Done!\\nPrediction time (secs): {:.3f}\".format(end - start)\n",
    "    return end-start,f1_score(target.values, y_pred, pos_label=1)"
   ]
  },
  {
   "cell_type": "code",
   "execution_count": 13,
   "metadata": {
    "collapsed": false
   },
   "outputs": [
    {
     "name": "stdout",
     "output_type": "stream",
     "text": [
      "F1 score for training set: 0.847\n",
      "Training set prediction time (secs): 0.204\n"
     ]
    }
   ],
   "source": [
    "time_taken,train_f1_score = predict_labels(clf, X_train, y_train)\n",
    "print \"F1 score for training set: {:.3f}\".format(train_f1_score)\n",
    "print \"Training set prediction time (secs): {:.3f}\".format(time_taken)"
   ]
  },
  {
   "cell_type": "code",
   "execution_count": 14,
   "metadata": {
    "collapsed": false
   },
   "outputs": [
    {
     "name": "stdout",
     "output_type": "stream",
     "text": [
      "F1 score for test set: 0.806\n",
      "Test set precidtion time (secs): 0.001\n"
     ]
    }
   ],
   "source": [
    "# Predict on test data\n",
    "time_taken,test_f1_score = predict_labels(clf, X_test, y_test)\n",
    "print \"F1 score for test set: {:.3f}\".format(test_f1_score)\n",
    "print \"Test set precidtion time (secs): {:.3f}\".format(time_taken)"
   ]
  },
  {
   "cell_type": "code",
   "execution_count": 15,
   "metadata": {
    "collapsed": false
   },
   "outputs": [],
   "source": [
    "# Train and predict\n",
    "def train_predict(clf, X_train, y_train, X_test, y_test):\n",
    "    \"\"\"\n",
    "    Function: Given the instance of a scikit-learn classifier,\n",
    "            training and test sets, return a dictionary containing\n",
    "            the time and F1 score measures on both the sets.\n",
    "    Params:\n",
    "        clf: Instance of a scikit-learn classifier.\n",
    "        X_train: The training data to fit the classifier instance with,\n",
    "                {array-like, sparse matrix}, shape (n_samples, n_features).\n",
    "        y_train: The target labels to train the classifier instance with,\n",
    "                array-like, shape (n_samples,)\n",
    "        X_test: The test dataset to perdict the target labels,\n",
    "                {array-like, sparse matrix}, shape (n_samples, n_features)\n",
    "        y_test: The actual target labels of the test dataset,\n",
    "                array-like, shape (n_samples,)\n",
    "    Returns:\n",
    "        Dict{\n",
    "            'train_size':*Size of the training set*,\n",
    "            'train_time':*Time taken to train the classifier*,\n",
    "            'train_score':*F1 Score, calculated on the training samples* ,\n",
    "            'test_time':*Time taken to predict on the test set*,\n",
    "            'test_score':*F1 Score, calculated on the test samples*\n",
    "            }\n",
    "    \n",
    "    \"\"\"\n",
    "    clf,train_time = train_classifier(clf, X_train, y_train) #Train the classifier.\n",
    "    predict_train_time,predict_train_score = predict_labels(clf, X_train, y_train) #Predict on the training set\n",
    "    predict_test_time,predict_test_score = predict_labels(clf, X_test, y_test) #Predict on the test set.\n",
    "    return {\"Training set size\":len(X_train),\n",
    "            \"Training time (secs)\":train_time,\n",
    "            \"F1 Score on Training Set\":predict_train_score,\n",
    "            \"Prediction time (secs)\":predict_test_time,\n",
    "            \"F1 Score on Testing Set\":predict_test_score,\n",
    "           }\n",
    "# TODO: Run the helper function above for desired subsets of training data"
   ]
  },
  {
   "cell_type": "code",
   "execution_count": 16,
   "metadata": {
    "collapsed": true
   },
   "outputs": [],
   "source": [
    "#Retrieve the metrics using different training set sizes\n",
    "#Note: Keep the test set constant\n",
    "def get_metrics(clf, X_train, y_train, X_test, y_test):\n",
    "    \"\"\"\n",
    "    Fuction: Computes and returns a DataFrame containing the performance measures\n",
    "            of the classifier for test set sizes in [100,200,300].\n",
    "    Params:\n",
    "        clf: Instance of a scikit-learn classifier.\n",
    "        X_train: The training data to fit the classifier instance with,\n",
    "                {array-like, sparse matrix}, shape (n_samples, n_features).\n",
    "        y_train: The target labels to train the classifier instance with,\n",
    "                array-like, shape (n_samples,)\n",
    "        X_test: The test dataset to perdict the target labels,\n",
    "                {array-like, sparse matrix}, shape (n_samples, n_features)\n",
    "        y_test: The actual target labels of the test dataset,\n",
    "                array-like, shape (n_samples,)\n",
    "    Returns:\n",
    "        Pandas DataFrame containing the performance metrics of the \n",
    "        classifier indexed by the training set size.\n",
    "    \"\"\"\n",
    "    perf = []\n",
    "    for size in [100,200,300]:\n",
    "        perf.append(train_predict(clf, X_train[:size], y_train[:size], X_test, y_test))\n",
    "    return pd.DataFrame.from_records(perf,index=\"Training set size\")"
   ]
  },
  {
   "cell_type": "code",
   "execution_count": 17,
   "metadata": {
    "collapsed": true
   },
   "outputs": [],
   "source": [
    "def classifier_perf(clist,X,y,cv=None):\n",
    "    \"\"\"\n",
    "    Function: Train a list if classifiers and return \n",
    "        a dictionary of performance metrics.\n",
    "    Params:\n",
    "        clist: List of scikit-learn classifier classes.\n",
    "        X: The samples and features in the dataset,\n",
    "            {array-like, sparse matrix}, shape (n_samples, n_features).\n",
    "        y: The target labels in the dataset,\n",
    "            array-like, shape (n_samples,)\n",
    "        cv: Instance of a cross-validation generator.\n",
    "    Return:\n",
    "        When cv=None:\n",
    "            clfs: A Dictionary with the classifiers in clist as keys \n",
    "                and the performance metrics as a dataframe for each classifier.\n",
    "        When cv!=None:\n",
    "            clfs: A Dictionary with the classifiers in clist as keys \n",
    "                and the mean performance metrics as a dataframe for each classifier.\n",
    "            devs: The standard deviations in the performance measure measured across \n",
    "                each iteration in the cross-validation\n",
    "    \"\"\"\n",
    "    X_train,X_test,y_train,y_test = train_test_split(X,y,test_size=0.24,random_state=18)\n",
    "    if not cv:\n",
    "        clfs = {}\n",
    "        for clf in clist:\n",
    "            clfs[clf.__class__.__name__] = get_metrics(clf,X_train,y_train,X_test,y_test)\n",
    "        return clfs\n",
    "    else:\n",
    "        clfs = defaultdict(list)\n",
    "        devs = defaultdict(list)\n",
    "        for clf in clist:\n",
    "            for train,test in cv:\n",
    "                X_train,y_train,X_test,y_test = X.iloc[train],y.iloc[train],X.iloc[test],y.iloc[test]\n",
    "                clfs[clf.__class__.__name__].append(get_metrics(clf,X_train,y_train,X_test,y_test))\n",
    "        for clf,perf in clfs.iteritems():\n",
    "            df = pd.DataFrame()\n",
    "            for d in perf:\n",
    "                df = df.append(perf)\n",
    "            clfs[clf] = df.groupby(df.index).mean()\n",
    "            devs[clf] = df.groupby(df.index).std()\n",
    "        return clfs,devs"
   ]
  },
  {
   "cell_type": "code",
   "execution_count": 18,
   "metadata": {
    "collapsed": false
   },
   "outputs": [],
   "source": [
    "# Choose 3 supervised learning models that are available in scikit-learn, and appropriate for this problem.\n",
    "from sklearn.naive_bayes import MultinomialNB\n",
    "from sklearn.linear_model import LogisticRegression\n",
    "from sklearn.svm import SVC\n",
    "\n",
    "clist = [MultinomialNB(),LogisticRegression(),SVC()]\n",
    "\n",
    "\"\"\"\n",
    "    Fit this model to the training data, try to predict labels \n",
    "    (for both training and test sets), and measure the F1 score.\n",
    "    Repeat this process with different training set sizes (100, 200, 300),\n",
    "    keeping test set constant.\n",
    "\"\"\"\n",
    "clfs = classifier_perf(clist,X_all,y_all)"
   ]
  },
  {
   "cell_type": "code",
   "execution_count": 19,
   "metadata": {
    "collapsed": false
   },
   "outputs": [],
   "source": [
    "%matplotlib inline\n",
    "from matplotlib import pylab\n",
    "def plot_learning_curve(clf,clf_name,devs=None):\n",
    "    pylab.plot(clf.index,clf[\"F1 Score on Training Set\"],label=\"F1 Score on Training Set\")\n",
    "    if devs:\n",
    "        pylab.fill_between(clf.index,clf[\"F1 Score on Training Set\"]-devs[clf_name][\"F1 Score on Training Set\"],\n",
    "                          clf[\"F1 Score on Training Set\"]+devs[clf_name][\"F1 Score on Training Set\"],\n",
    "                           alpha=0.1,color=\"r\")\n",
    "    pylab.plot(clf.index,clf[\"F1 Score on Testing Set\"],label=\"F1 Score on Testing Set\")\n",
    "    if devs:\n",
    "        pylab.fill_between(clf.index,clf[\"F1 Score on Testing Set\"]-devs[clf_name][\"F1 Score on Testing Set\"],\n",
    "                          clf[\"F1 Score on Testing Set\"]+devs[clf_name][\"F1 Score on Testing Set\"],\n",
    "                           alpha=0.1,color=\"r\")\n",
    "    pylab.xlabel(\"Testing Size\")\n",
    "    pylab.ylabel(\"F1 Score\")\n",
    "    pylab.legend(bbox_to_anchor=(1.05, 1), loc=2, borderaxespad=0.)\n",
    "    pylab.grid()\n",
    "    pylab.title(\"Learning Curve for the classifier: {}\".format(clf_name))\n",
    "    pylab.show()"
   ]
  },
  {
   "cell_type": "markdown",
   "metadata": {},
   "source": [
    "What is the theoretical O(n) time & space complexity in terms of input size?\n",
    "What are the general applications of this model? What are its strengths and weaknesses?\n",
    "Given what you know about the data so far, why did you choose this model to apply?"
   ]
  },
  {
   "cell_type": "markdown",
   "metadata": {},
   "source": [
    "### Naive Bayes\n",
    "\n",
    "#### Description\n",
    "The <u>Naive Bayes</u> classifier is a learning algorithm based on the *Bayes's theorem*. The fundamental idea is to use\n",
    "**Bayesian reasoning** to identify the most likely of a set of hypotheses. It assumes an underlying\n",
    "probabilistic distribution and updates the distribution using the probabilities of the outcome of training and\n",
    "is a _generative_ classifier. It's ***\"Naive\"*** in that it assumes conditional independence of features.\n",
    "\n",
    "#### Complexity </br>\n",
    "The values below are referred from, <a href=\"http://www.csse.monash.edu.au/~webb/Files/ZhengWebb05.pdf\">\n",
    "A Comparative Study of Semi-naive Bayes Methods in Classification Learning </a>\n",
    "\n",
    "##### Space Complexity\n",
    ">Given n-features and m-classes, the space complexity of a Naive Bayes classifier is roughly O(n\\*m).\n",
    "\n",
    "##### Time Complexity\n",
    ">Given n-features, k-samples and m-classes, the time complexity of Naive Bayes classifier is roughly\n",
    ">>for training - O(n\\*k + n\\*c)\n",
    "\n",
    ">>for testing - O(n\\*k\\*c)\n",
    "\n",
    "#### General Applications\n",
    "Due to its computational simplicity(~Linear) and independence assumption Naive Bayes classifiers are widely used in a variety of applications that have relatively high dimensional features such as text classification, facial recognition, market segmentation and medical diagnosis.\n",
    "\n",
    "##### Strength\n",
    "1. Computationally tractable.\n",
    "2. Fast learning speed.\n",
    "3. Simplicity.\n",
    "4. Independence from dimensionality.\n",
    "\n",
    "##### Weakness\n",
    "1. Poor performance when the independence assumption does not hold.\n",
    "2. Has difficulty with zero-frequency values.\n",
    "3. Very simple representation doesn't allow for rich hypotheses.\n",
    "\n",
    "#### Why Naive Bayes ?\n",
    "Given that the data at hand is high dimensional (~30 features) and has comparatively lesser number of training samples (~300 samples). A **low variance/high bias** classifier such a Naive Bayes should perform well in prediction as it's prone to *avoid overfitting* and is not affected by the _curse of dimensionality_. Further, it's simplicity and fast computational speed makes it a favorable choice due to the limited resource available in terms of computational time.\n",
    "scikit-learn.naive_bayes.MultinomialNB is suitable for discrete features. Since, most of the features in the dataset is categorical and has been further discretized using dummy variables. "
   ]
  },
  {
   "cell_type": "code",
   "execution_count": 20,
   "metadata": {
    "collapsed": false
   },
   "outputs": [
    {
     "data": {
      "text/plain": [
       "'MultinimialNB'"
      ]
     },
     "metadata": {},
     "output_type": "display_data"
    },
    {
     "data": {
      "text/html": [
       "<div>\n",
       "<table border=\"1\" class=\"dataframe\">\n",
       "  <thead>\n",
       "    <tr style=\"text-align: right;\">\n",
       "      <th></th>\n",
       "      <th>F1 Score on Testing Set</th>\n",
       "      <th>F1 Score on Training Set</th>\n",
       "      <th>Prediction time (secs)</th>\n",
       "      <th>Training time (secs)</th>\n",
       "    </tr>\n",
       "    <tr>\n",
       "      <th>Training set size</th>\n",
       "      <th></th>\n",
       "      <th></th>\n",
       "      <th></th>\n",
       "      <th></th>\n",
       "    </tr>\n",
       "  </thead>\n",
       "  <tbody>\n",
       "    <tr>\n",
       "      <th>100</th>\n",
       "      <td>0.785185</td>\n",
       "      <td>0.744526</td>\n",
       "      <td>0.000142</td>\n",
       "      <td>0.045991</td>\n",
       "    </tr>\n",
       "    <tr>\n",
       "      <th>200</th>\n",
       "      <td>0.847682</td>\n",
       "      <td>0.823129</td>\n",
       "      <td>0.000153</td>\n",
       "      <td>0.137904</td>\n",
       "    </tr>\n",
       "    <tr>\n",
       "      <th>300</th>\n",
       "      <td>0.797101</td>\n",
       "      <td>0.766667</td>\n",
       "      <td>0.000230</td>\n",
       "      <td>0.000819</td>\n",
       "    </tr>\n",
       "  </tbody>\n",
       "</table>\n",
       "</div>"
      ],
      "text/plain": [
       "                   F1 Score on Testing Set  F1 Score on Training Set  \\\n",
       "Training set size                                                      \n",
       "100                               0.785185                  0.744526   \n",
       "200                               0.847682                  0.823129   \n",
       "300                               0.797101                  0.766667   \n",
       "\n",
       "                   Prediction time (secs)  Training time (secs)  \n",
       "Training set size                                                \n",
       "100                              0.000142              0.045991  \n",
       "200                              0.000153              0.137904  \n",
       "300                              0.000230              0.000819  "
      ]
     },
     "metadata": {},
     "output_type": "display_data"
    },
    {
     "name": "stdout",
     "output_type": "stream",
     "text": [
      "For the entire training set the MultinomialNB classifier reports an F1 Score of 0.797 on the testing set\n"
     ]
    },
    {
     "data": {
      "image/png": "[encoded data removed]",
      "text/plain": [
       "<matplotlib.figure.Figure at 0x7f197e9023d0>"
      ]
     },
     "metadata": {},
     "output_type": "display_data"
    }
   ],
   "source": [
    "display(\"MultinimialNB\")\n",
    "display(clfs[\"MultinomialNB\"])\n",
    "print \"For the entire training set the MultinomialNB classifier\\\n",
    " reports an F1 Score of {:.3f} on the testing set\".format(clfs[\"MultinomialNB\"]\n",
    "                                                                 [\"F1 Score on Testing Set\"].loc[300])\n",
    "plot_learning_curve(clfs[\"MultinomialNB\"],\"MultinomialNB\")"
   ]
  },
  {
   "cell_type": "markdown",
   "metadata": {},
   "source": [
    "\t \t \t\n",
    "### Support Vector Machine\n",
    "\n",
    "#### Description\n",
    "\n",
    "<u>Support Vector Machine</u> (SVM) is a supervised machine learning algorithm that is used for both regression and classification problems. The classifier is best described as a **_large margin classifier_**. The intuition is to plot the features in an n-dimensional space and find a hyperplane that **linearly separates** the classes by optimizing the margin (distance between the hyperplane and the nearest points a.k.a _support vectors_). Since, it works only on linearly separable classes, non-linear hyperplanes are found using ingenious mathematical transformations known as **_\"Kernels\"_**. This is often referred to as the **\"Kernel Trick\"**\n",
    "\n",
    "#### Complexity\n",
    "A number of factors affect the complexity of the support vector machine algorithm, these include the underlying metric space used to identify the margin, the kernel used and the type of SVM optimizer used.\n",
    "However, the following is a ballpark reference for non-linear SVMs from <a href=\"http://www.jmlr.org/papers/volume6/tsang05a/tsang05a.pdf\">Journal of Machine Learning Vol6</a>.\n",
    "\n",
    "##### Space Complexity\n",
    "> Given m-samples in the training set, the space complexity is roughly O(m<sup>2</sup>)\n",
    "\n",
    "##### Time Complexity\n",
    "> Given m-samples in the training set, the time complexity is roughly O(m<sup>3</sup>)\n",
    "\n",
    "#### General Applications\n",
    "Since, SVMs are used where there are complex non-linear hypotheses to be learnt, they are applied in a variety of fields such as Computer Vision, Natural Language Processing, Neuroimaging, Bio-informatics.\n",
    "\n",
    "##### Strength\n",
    "1. Flexibility in space, using kernels.\n",
    "2. Nonlinear functions can be learned with simplicity.\n",
    "3. Since, it's a large margin classifier we can be certain of the decision boundary margin to be optimum.\n",
    "4. Good out-of-sample generalization since it only uses the support vectors for classification.\n",
    "\n",
    "##### Weakness\n",
    "1. Can be prone to overfitting\n",
    "2. For very large data sets they have relatively bad performance and can be slow.\n",
    "3. The performance can be affected when the classes overlap at complicated levels and are noisy.\n",
    "\n",
    "#### Why SVM ? \n",
    "Since the data set is **high dimensional** and we have a **relatively small training set size** SVM seemed like an appropriate choice of learning algorithm. With an **rbf/Gaussian** kernel it is possible to learn non-linear hypotheses and perform relatively well in the classification task. Furthermore, we will be able to tune the margin of the decision boundary using the regularization parameter *_\"C\"_*. \n",
    "scikit-learn.SVM.SVC has been implemented using LIBSVM and is quite efficient in optimization. With the above considerations SVM was chosen as one of the algorithms suitable for the problem given the data and resources.   "
   ]
  },
  {
   "cell_type": "code",
   "execution_count": 21,
   "metadata": {
    "collapsed": false
   },
   "outputs": [
    {
     "data": {
      "text/plain": [
       "'SVM'"
      ]
     },
     "metadata": {},
     "output_type": "display_data"
    },
    {
     "data": {
      "text/html": [
       "<div>\n",
       "<table border=\"1\" class=\"dataframe\">\n",
       "  <thead>\n",
       "    <tr style=\"text-align: right;\">\n",
       "      <th></th>\n",
       "      <th>F1 Score on Testing Set</th>\n",
       "      <th>F1 Score on Training Set</th>\n",
       "      <th>Prediction time (secs)</th>\n",
       "      <th>Training time (secs)</th>\n",
       "    </tr>\n",
       "    <tr>\n",
       "      <th>Training set size</th>\n",
       "      <th></th>\n",
       "      <th></th>\n",
       "      <th></th>\n",
       "      <th></th>\n",
       "    </tr>\n",
       "  </thead>\n",
       "  <tbody>\n",
       "    <tr>\n",
       "      <th>100</th>\n",
       "      <td>0.846626</td>\n",
       "      <td>0.823529</td>\n",
       "      <td>0.001369</td>\n",
       "      <td>0.002254</td>\n",
       "    </tr>\n",
       "    <tr>\n",
       "      <th>200</th>\n",
       "      <td>0.846626</td>\n",
       "      <td>0.869010</td>\n",
       "      <td>0.002455</td>\n",
       "      <td>0.005161</td>\n",
       "    </tr>\n",
       "    <tr>\n",
       "      <th>300</th>\n",
       "      <td>0.835443</td>\n",
       "      <td>0.846491</td>\n",
       "      <td>0.003321</td>\n",
       "      <td>0.010646</td>\n",
       "    </tr>\n",
       "  </tbody>\n",
       "</table>\n",
       "</div>"
      ],
      "text/plain": [
       "                   F1 Score on Testing Set  F1 Score on Training Set  \\\n",
       "Training set size                                                      \n",
       "100                               0.846626                  0.823529   \n",
       "200                               0.846626                  0.869010   \n",
       "300                               0.835443                  0.846491   \n",
       "\n",
       "                   Prediction time (secs)  Training time (secs)  \n",
       "Training set size                                                \n",
       "100                              0.001369              0.002254  \n",
       "200                              0.002455              0.005161  \n",
       "300                              0.003321              0.010646  "
      ]
     },
     "metadata": {},
     "output_type": "display_data"
    },
    {
     "name": "stdout",
     "output_type": "stream",
     "text": [
      "For the entire training set the Support Vector Machine classifier reports an F1 Score of 0.835 on the testing set\n"
     ]
    },
    {
     "data": {
      "image/png": "[encoded data removed]",
      "text/plain": [
       "<matplotlib.figure.Figure at 0x7f197e901410>"
      ]
     },
     "metadata": {},
     "output_type": "display_data"
    }
   ],
   "source": [
    "display(\"SVM\")\n",
    "display(clfs[\"SVC\"])\n",
    "print \"For the entire training set the Support Vector Machine classifier\\\n",
    " reports an F1 Score of {:.3f} on the testing set\".format(clfs[\"SVC\"]\n",
    "                                                                 [\"F1 Score on Testing Set\"].loc[300])\n",
    "plot_learning_curve(clfs[\"SVC\"],\"SVC\")"
   ]
  },
  {
   "cell_type": "markdown",
   "metadata": {},
   "source": [
    "### Logistic Regression\n",
    "\n",
    "#### Description\n",
    "\n",
    "<u>Logistic Regression</u> despite it's name is a *_stastical model_* that analyzes the relationship between multiple independent variables and a categorical dependent variable to **estimates the probability of the output class** by fitting data to a logistic curve. Although this is method is suitable for binary classification, multivariate classifications can be performed using a technique called **one-vs-all** where multiple models are trained and the class with the highest probability is chosen for output. Since, the model only outputs the probability of a class it's required that the we provide the threshold value that controls the output class.\n",
    "\n",
    "#### Complexity\n",
    "The complexity of the model is essentially governed by the optimizer used to solve the optimization of the cost-function. We shall consider the the generalized linear optimiser(Conjugate Gradient) here. ref, <a href=\"http://repository.cmu.edu/cgi/viewcontent.cgi?article=1221&context=robotics\">Logistic Regression for Data Mining and High Dimensional Classification </a>\n",
    "\n",
    "##### Space Complexity\n",
    ">The space complexity of logistic regression is O(1).\n",
    "\n",
    "##### Time Complexity\n",
    ">Given m-samples in the training set, the time complexiy is roughly (less than) O(m).\n",
    "\n",
    "#### General Applications\n",
    "Logistic regression is ideally used for any kind of classification and is suitable as long as there is no overlapping of classes. This includes stock market analysis, market segmentation, Optical character recognition and digit recognition.\n",
    "\n",
    "##### Strength\n",
    "1. Logistic regression is intrinsically simple and hence a fast learner.\n",
    "2. It has low variance when regularized and so is less prone to overfitting.\n",
    "3. The classes need not be normally distributed and need not have equal variance in each class.\n",
    "4. No linear relationship assumptions need to be made between the independent and dependent variables.\n",
    "\n",
    "##### Weakness\n",
    "1. It needs relatively high number of training sample to make reasonable assumptions.\n",
    "2. It assumes a linear decision boundary and when this assumption is violated it tends to perform badly.\n",
    "\n",
    "#### Why Logistic Regression ?\n",
    "Logistic regression is a very simple learning algorithm and yet it is able to estimate complex hypotheses. The ability to do this with very little computational resources and yet arrive at resonable hypotheses is a promising strength of logistic regression that suits the learning problem at hand. Controlling the regularization parameter allows us to find a complexity of the hypotheses. The scikit-learn.linear_model.LogisticRegression is implemented to be quite efficient and with the above considerations Logistic Regression is a suitable algorithm for the given problem and data as it can prove to be cost effective and make reasonable predictions."
   ]
  },
  {
   "cell_type": "code",
   "execution_count": 22,
   "metadata": {
    "collapsed": false
   },
   "outputs": [
    {
     "data": {
      "text/plain": [
       "'LogisticRegression'"
      ]
     },
     "metadata": {},
     "output_type": "display_data"
    },
    {
     "data": {
      "text/html": [
       "<div>\n",
       "<table border=\"1\" class=\"dataframe\">\n",
       "  <thead>\n",
       "    <tr style=\"text-align: right;\">\n",
       "      <th></th>\n",
       "      <th>F1 Score on Testing Set</th>\n",
       "      <th>F1 Score on Training Set</th>\n",
       "      <th>Prediction time (secs)</th>\n",
       "      <th>Training time (secs)</th>\n",
       "    </tr>\n",
       "    <tr>\n",
       "      <th>Training set size</th>\n",
       "      <th></th>\n",
       "      <th></th>\n",
       "      <th></th>\n",
       "      <th></th>\n",
       "    </tr>\n",
       "  </thead>\n",
       "  <tbody>\n",
       "    <tr>\n",
       "      <th>100</th>\n",
       "      <td>0.835616</td>\n",
       "      <td>0.848485</td>\n",
       "      <td>0.000313</td>\n",
       "      <td>0.001396</td>\n",
       "    </tr>\n",
       "    <tr>\n",
       "      <th>200</th>\n",
       "      <td>0.818182</td>\n",
       "      <td>0.850340</td>\n",
       "      <td>0.000211</td>\n",
       "      <td>0.003582</td>\n",
       "    </tr>\n",
       "    <tr>\n",
       "      <th>300</th>\n",
       "      <td>0.821918</td>\n",
       "      <td>0.826291</td>\n",
       "      <td>0.000270</td>\n",
       "      <td>0.004251</td>\n",
       "    </tr>\n",
       "  </tbody>\n",
       "</table>\n",
       "</div>"
      ],
      "text/plain": [
       "                   F1 Score on Testing Set  F1 Score on Training Set  \\\n",
       "Training set size                                                      \n",
       "100                               0.835616                  0.848485   \n",
       "200                               0.818182                  0.850340   \n",
       "300                               0.821918                  0.826291   \n",
       "\n",
       "                   Prediction time (secs)  Training time (secs)  \n",
       "Training set size                                                \n",
       "100                              0.000313              0.001396  \n",
       "200                              0.000211              0.003582  \n",
       "300                              0.000270              0.004251  "
      ]
     },
     "metadata": {},
     "output_type": "display_data"
    },
    {
     "name": "stdout",
     "output_type": "stream",
     "text": [
      "For the entire training set the LogisticRegression classifier reports an F1 Score of 0.822 on the testing set\n"
     ]
    },
    {
     "data": {
      "image/png": "[encoded data removed]",
      "text/plain": [
       "<matplotlib.figure.Figure at 0x7f197e901950>"
      ]
     },
     "metadata": {},
     "output_type": "display_data"
    }
   ],
   "source": [
    "display(\"LogisticRegression\")\n",
    "display(clfs[\"LogisticRegression\"])\n",
    "print \"For the entire training set the LogisticRegression classifier\\\n",
    " reports an F1 Score of {:.3f} on the testing set\".format(clfs[\"LogisticRegression\"]\n",
    "                                                                 [\"F1 Score on Testing Set\"].loc[300])\n",
    "plot_learning_curve(clfs[\"LogisticRegression\"],\"LogisticRegression\")"
   ]
  },
  {
   "cell_type": "code",
   "execution_count": 23,
   "metadata": {
    "collapsed": false
   },
   "outputs": [
    {
     "data": {
      "text/plain": [
       "'MultinomialNB'"
      ]
     },
     "metadata": {},
     "output_type": "display_data"
    },
    {
     "data": {
      "text/html": [
       "<div>\n",
       "<table border=\"1\" class=\"dataframe\">\n",
       "  <thead>\n",
       "    <tr style=\"text-align: right;\">\n",
       "      <th></th>\n",
       "      <th>F1 Score on Testing Set</th>\n",
       "      <th>F1 Score on Training Set</th>\n",
       "      <th>Prediction time (secs)</th>\n",
       "      <th>Training time (secs)</th>\n",
       "    </tr>\n",
       "    <tr>\n",
       "      <th>Training set size</th>\n",
       "      <th></th>\n",
       "      <th></th>\n",
       "      <th></th>\n",
       "      <th></th>\n",
       "    </tr>\n",
       "  </thead>\n",
       "  <tbody>\n",
       "    <tr>\n",
       "      <th>100</th>\n",
       "      <td>0.785185</td>\n",
       "      <td>0.744526</td>\n",
       "      <td>0.000142</td>\n",
       "      <td>0.045991</td>\n",
       "    </tr>\n",
       "    <tr>\n",
       "      <th>200</th>\n",
       "      <td>0.847682</td>\n",
       "      <td>0.823129</td>\n",
       "      <td>0.000153</td>\n",
       "      <td>0.137904</td>\n",
       "    </tr>\n",
       "    <tr>\n",
       "      <th>300</th>\n",
       "      <td>0.797101</td>\n",
       "      <td>0.766667</td>\n",
       "      <td>0.000230</td>\n",
       "      <td>0.000819</td>\n",
       "    </tr>\n",
       "  </tbody>\n",
       "</table>\n",
       "</div>"
      ],
      "text/plain": [
       "                   F1 Score on Testing Set  F1 Score on Training Set  \\\n",
       "Training set size                                                      \n",
       "100                               0.785185                  0.744526   \n",
       "200                               0.847682                  0.823129   \n",
       "300                               0.797101                  0.766667   \n",
       "\n",
       "                   Prediction time (secs)  Training time (secs)  \n",
       "Training set size                                                \n",
       "100                              0.000142              0.045991  \n",
       "200                              0.000153              0.137904  \n",
       "300                              0.000230              0.000819  "
      ]
     },
     "metadata": {},
     "output_type": "display_data"
    },
    {
     "data": {
      "text/plain": [
       "'LogisticRegression'"
      ]
     },
     "metadata": {},
     "output_type": "display_data"
    },
    {
     "data": {
      "text/html": [
       "<div>\n",
       "<table border=\"1\" class=\"dataframe\">\n",
       "  <thead>\n",
       "    <tr style=\"text-align: right;\">\n",
       "      <th></th>\n",
       "      <th>F1 Score on Testing Set</th>\n",
       "      <th>F1 Score on Training Set</th>\n",
       "      <th>Prediction time (secs)</th>\n",
       "      <th>Training time (secs)</th>\n",
       "    </tr>\n",
       "    <tr>\n",
       "      <th>Training set size</th>\n",
       "      <th></th>\n",
       "      <th></th>\n",
       "      <th></th>\n",
       "      <th></th>\n",
       "    </tr>\n",
       "  </thead>\n",
       "  <tbody>\n",
       "    <tr>\n",
       "      <th>100</th>\n",
       "      <td>0.835616</td>\n",
       "      <td>0.848485</td>\n",
       "      <td>0.000313</td>\n",
       "      <td>0.001396</td>\n",
       "    </tr>\n",
       "    <tr>\n",
       "      <th>200</th>\n",
       "      <td>0.818182</td>\n",
       "      <td>0.850340</td>\n",
       "      <td>0.000211</td>\n",
       "      <td>0.003582</td>\n",
       "    </tr>\n",
       "    <tr>\n",
       "      <th>300</th>\n",
       "      <td>0.821918</td>\n",
       "      <td>0.826291</td>\n",
       "      <td>0.000270</td>\n",
       "      <td>0.004251</td>\n",
       "    </tr>\n",
       "  </tbody>\n",
       "</table>\n",
       "</div>"
      ],
      "text/plain": [
       "                   F1 Score on Testing Set  F1 Score on Training Set  \\\n",
       "Training set size                                                      \n",
       "100                               0.835616                  0.848485   \n",
       "200                               0.818182                  0.850340   \n",
       "300                               0.821918                  0.826291   \n",
       "\n",
       "                   Prediction time (secs)  Training time (secs)  \n",
       "Training set size                                                \n",
       "100                              0.000313              0.001396  \n",
       "200                              0.000211              0.003582  \n",
       "300                              0.000270              0.004251  "
      ]
     },
     "metadata": {},
     "output_type": "display_data"
    },
    {
     "data": {
      "text/plain": [
       "'SVC'"
      ]
     },
     "metadata": {},
     "output_type": "display_data"
    },
    {
     "data": {
      "text/html": [
       "<div>\n",
       "<table border=\"1\" class=\"dataframe\">\n",
       "  <thead>\n",
       "    <tr style=\"text-align: right;\">\n",
       "      <th></th>\n",
       "      <th>F1 Score on Testing Set</th>\n",
       "      <th>F1 Score on Training Set</th>\n",
       "      <th>Prediction time (secs)</th>\n",
       "      <th>Training time (secs)</th>\n",
       "    </tr>\n",
       "    <tr>\n",
       "      <th>Training set size</th>\n",
       "      <th></th>\n",
       "      <th></th>\n",
       "      <th></th>\n",
       "      <th></th>\n",
       "    </tr>\n",
       "  </thead>\n",
       "  <tbody>\n",
       "    <tr>\n",
       "      <th>100</th>\n",
       "      <td>0.846626</td>\n",
       "      <td>0.823529</td>\n",
       "      <td>0.001369</td>\n",
       "      <td>0.002254</td>\n",
       "    </tr>\n",
       "    <tr>\n",
       "      <th>200</th>\n",
       "      <td>0.846626</td>\n",
       "      <td>0.869010</td>\n",
       "      <td>0.002455</td>\n",
       "      <td>0.005161</td>\n",
       "    </tr>\n",
       "    <tr>\n",
       "      <th>300</th>\n",
       "      <td>0.835443</td>\n",
       "      <td>0.846491</td>\n",
       "      <td>0.003321</td>\n",
       "      <td>0.010646</td>\n",
       "    </tr>\n",
       "  </tbody>\n",
       "</table>\n",
       "</div>"
      ],
      "text/plain": [
       "                   F1 Score on Testing Set  F1 Score on Training Set  \\\n",
       "Training set size                                                      \n",
       "100                               0.846626                  0.823529   \n",
       "200                               0.846626                  0.869010   \n",
       "300                               0.835443                  0.846491   \n",
       "\n",
       "                   Prediction time (secs)  Training time (secs)  \n",
       "Training set size                                                \n",
       "100                              0.001369              0.002254  \n",
       "200                              0.002455              0.005161  \n",
       "300                              0.003321              0.010646  "
      ]
     },
     "metadata": {},
     "output_type": "display_data"
    }
   ],
   "source": [
    "\"\"\"\n",
    "    Produce a table showing training time, prediction time, \n",
    "    F1 score on training set and F1 score on test set, for each training set size.\n",
    "    Note: You need to produce 3 such tables - one for each model.\n",
    "\"\"\"\n",
    "from IPython.display import display, HTML\n",
    "for k,v in clfs.iteritems():\n",
    "    display(k)\n",
    "    display(v)"
   ]
  },
  {
   "cell_type": "markdown",
   "metadata": {},
   "source": [
    "## Choosing the Best Model\n",
    "\n",
    "- Based on the experiments you performed earlier, in 1-2 paragraphs explain to the board of supervisors what single model you chose as the best model. Which model is generally the most appropriate based on the available data, limited resources, cost, and performance?\n",
    "- In 1-2 paragraphs explain to the board of supervisors in layman's terms how the final model chosen is supposed to work (for example if you chose a Decision Tree or Support Vector Machine, how does it make a prediction).\n",
    "- Fine-tune the model. Use Gridsearch with at least one important parameter tuned and with at least 3 settings. Use the entire training set for this.\n",
    "- What is the model's final F<sub>1</sub> score?"
   ]
  },
  {
   "cell_type": "markdown",
   "metadata": {
    "collapsed": true
   },
   "source": [
    "### Concerns\n",
    "The above results are based on only one cross-validation set and it is quite unclear whether the distribution of the training data played a role in the classifier F<sub>1</sub> score. Hence, the experiments are repeated with StratifiedShuffledSplit cross-validation and the mean scores and times across the sets is considered as an appropriate measure to measure the performance of the classifiers."
   ]
  },
  {
   "cell_type": "code",
   "execution_count": 24,
   "metadata": {
    "collapsed": false
   },
   "outputs": [
    {
     "data": {
      "text/plain": [
       "'MultinomialNB'"
      ]
     },
     "metadata": {},
     "output_type": "display_data"
    },
    {
     "data": {
      "text/html": [
       "<div>\n",
       "<table border=\"1\" class=\"dataframe\">\n",
       "  <thead>\n",
       "    <tr style=\"text-align: right;\">\n",
       "      <th></th>\n",
       "      <th>F1 Score on Testing Set</th>\n",
       "      <th>F1 Score on Training Set</th>\n",
       "      <th>Prediction time (secs)</th>\n",
       "      <th>Training time (secs)</th>\n",
       "    </tr>\n",
       "    <tr>\n",
       "      <th>Training set size</th>\n",
       "      <th></th>\n",
       "      <th></th>\n",
       "      <th></th>\n",
       "      <th></th>\n",
       "    </tr>\n",
       "  </thead>\n",
       "  <tbody>\n",
       "    <tr>\n",
       "      <th>100</th>\n",
       "      <td>0.760062</td>\n",
       "      <td>0.808661</td>\n",
       "      <td>0.000154</td>\n",
       "      <td>0.000780</td>\n",
       "    </tr>\n",
       "    <tr>\n",
       "      <th>200</th>\n",
       "      <td>0.761203</td>\n",
       "      <td>0.793698</td>\n",
       "      <td>0.000166</td>\n",
       "      <td>0.000769</td>\n",
       "    </tr>\n",
       "    <tr>\n",
       "      <th>300</th>\n",
       "      <td>0.770446</td>\n",
       "      <td>0.792415</td>\n",
       "      <td>0.000165</td>\n",
       "      <td>0.000826</td>\n",
       "    </tr>\n",
       "  </tbody>\n",
       "</table>\n",
       "</div>"
      ],
      "text/plain": [
       "                   F1 Score on Testing Set  F1 Score on Training Set  \\\n",
       "Training set size                                                      \n",
       "100                               0.760062                  0.808661   \n",
       "200                               0.761203                  0.793698   \n",
       "300                               0.770446                  0.792415   \n",
       "\n",
       "                   Prediction time (secs)  Training time (secs)  \n",
       "Training set size                                                \n",
       "100                              0.000154              0.000780  \n",
       "200                              0.000166              0.000769  \n",
       "300                              0.000165              0.000826  "
      ]
     },
     "metadata": {},
     "output_type": "display_data"
    },
    {
     "name": "stderr",
     "output_type": "stream",
     "text": [
      "/home/bharat/anaconda2/lib/python2.7/site-packages/matplotlib/collections.py:590: FutureWarning: elementwise comparison failed; returning scalar instead, but in the future will perform elementwise comparison\n",
      "  if self._edgecolors == str('face'):\n"
     ]
    },
    {
     "data": {
      "image/png": "[encoded data removed]",
      "text/plain": [
       "<matplotlib.figure.Figure at 0x7f197621b290>"
      ]
     },
     "metadata": {},
     "output_type": "display_data"
    },
    {
     "data": {
      "text/plain": [
       "'LogisticRegression'"
      ]
     },
     "metadata": {},
     "output_type": "display_data"
    },
    {
     "data": {
      "text/html": [
       "<div>\n",
       "<table border=\"1\" class=\"dataframe\">\n",
       "  <thead>\n",
       "    <tr style=\"text-align: right;\">\n",
       "      <th></th>\n",
       "      <th>F1 Score on Testing Set</th>\n",
       "      <th>F1 Score on Training Set</th>\n",
       "      <th>Prediction time (secs)</th>\n",
       "      <th>Training time (secs)</th>\n",
       "    </tr>\n",
       "    <tr>\n",
       "      <th>Training set size</th>\n",
       "      <th></th>\n",
       "      <th></th>\n",
       "      <th></th>\n",
       "      <th></th>\n",
       "    </tr>\n",
       "  </thead>\n",
       "  <tbody>\n",
       "    <tr>\n",
       "      <th>100</th>\n",
       "      <td>0.745783</td>\n",
       "      <td>0.892038</td>\n",
       "      <td>0.000156</td>\n",
       "      <td>0.001090</td>\n",
       "    </tr>\n",
       "    <tr>\n",
       "      <th>200</th>\n",
       "      <td>0.763652</td>\n",
       "      <td>0.847920</td>\n",
       "      <td>0.000158</td>\n",
       "      <td>0.001997</td>\n",
       "    </tr>\n",
       "    <tr>\n",
       "      <th>300</th>\n",
       "      <td>0.774074</td>\n",
       "      <td>0.836411</td>\n",
       "      <td>0.000158</td>\n",
       "      <td>0.002872</td>\n",
       "    </tr>\n",
       "  </tbody>\n",
       "</table>\n",
       "</div>"
      ],
      "text/plain": [
       "                   F1 Score on Testing Set  F1 Score on Training Set  \\\n",
       "Training set size                                                      \n",
       "100                               0.745783                  0.892038   \n",
       "200                               0.763652                  0.847920   \n",
       "300                               0.774074                  0.836411   \n",
       "\n",
       "                   Prediction time (secs)  Training time (secs)  \n",
       "Training set size                                                \n",
       "100                              0.000156              0.001090  \n",
       "200                              0.000158              0.001997  \n",
       "300                              0.000158              0.002872  "
      ]
     },
     "metadata": {},
     "output_type": "display_data"
    },
    {
     "data": {
      "image/png": "[encoded data removed]",
      "text/plain": [
       "<matplotlib.figure.Figure at 0x7f1975f86fd0>"
      ]
     },
     "metadata": {},
     "output_type": "display_data"
    },
    {
     "data": {
      "text/plain": [
       "'SVC'"
      ]
     },
     "metadata": {},
     "output_type": "display_data"
    },
    {
     "data": {
      "text/html": [
       "<div>\n",
       "<table border=\"1\" class=\"dataframe\">\n",
       "  <thead>\n",
       "    <tr style=\"text-align: right;\">\n",
       "      <th></th>\n",
       "      <th>F1 Score on Testing Set</th>\n",
       "      <th>F1 Score on Training Set</th>\n",
       "      <th>Prediction time (secs)</th>\n",
       "      <th>Training time (secs)</th>\n",
       "    </tr>\n",
       "    <tr>\n",
       "      <th>Training set size</th>\n",
       "      <th></th>\n",
       "      <th></th>\n",
       "      <th></th>\n",
       "      <th></th>\n",
       "    </tr>\n",
       "  </thead>\n",
       "  <tbody>\n",
       "    <tr>\n",
       "      <th>100</th>\n",
       "      <td>0.795640</td>\n",
       "      <td>0.868331</td>\n",
       "      <td>0.000834</td>\n",
       "      <td>0.001335</td>\n",
       "    </tr>\n",
       "    <tr>\n",
       "      <th>200</th>\n",
       "      <td>0.803633</td>\n",
       "      <td>0.869557</td>\n",
       "      <td>0.001434</td>\n",
       "      <td>0.003822</td>\n",
       "    </tr>\n",
       "    <tr>\n",
       "      <th>300</th>\n",
       "      <td>0.802467</td>\n",
       "      <td>0.868864</td>\n",
       "      <td>0.001949</td>\n",
       "      <td>0.007761</td>\n",
       "    </tr>\n",
       "  </tbody>\n",
       "</table>\n",
       "</div>"
      ],
      "text/plain": [
       "                   F1 Score on Testing Set  F1 Score on Training Set  \\\n",
       "Training set size                                                      \n",
       "100                               0.795640                  0.868331   \n",
       "200                               0.803633                  0.869557   \n",
       "300                               0.802467                  0.868864   \n",
       "\n",
       "                   Prediction time (secs)  Training time (secs)  \n",
       "Training set size                                                \n",
       "100                              0.000834              0.001335  \n",
       "200                              0.001434              0.003822  \n",
       "300                              0.001949              0.007761  "
      ]
     },
     "metadata": {},
     "output_type": "display_data"
    },
    {
     "data": {
      "image/png": "[encoded data removed]",
      "text/plain": [
       "<matplotlib.figure.Figure at 0x7f1975f86250>"
      ]
     },
     "metadata": {},
     "output_type": "display_data"
    }
   ],
   "source": [
    "from sklearn.cross_validation import StratifiedShuffleSplit\n",
    "cv = StratifiedShuffleSplit(y_all, n_iter=30, test_size=0.24, random_state=42)\n",
    "cvlist = [MultinomialNB(),LogisticRegression(),SVC()]\n",
    "clfs,devs = classifier_perf(cvlist,X_all,y_all,cv=cv)\n",
    "for k,v in clfs.iteritems():\n",
    "    display(k)\n",
    "    display(v)\n",
    "    plot_learning_curve(v,k,devs)"
   ]
  },
  {
   "cell_type": "markdown",
   "metadata": {},
   "source": [
    "### Further Graphical Comparision of Classifiers"
   ]
  },
  {
   "cell_type": "code",
   "execution_count": 25,
   "metadata": {
    "collapsed": true
   },
   "outputs": [],
   "source": [
    "%matplotlib inline\n",
    "from matplotlib import pylab\n",
    "def plotClfCompare(clfs,devs=None,**kwargs):\n",
    "    if kwargs is not None:\n",
    "        wmap =  {\"test_score\":\"F1 Score on Testing Set\",\n",
    "                \"train_score\":\"F1 Score on Training Set\",\n",
    "                \"predict_time\":\"Prediction time (secs)\",\n",
    "                \"train_time\":\"Training time (secs)\"}\n",
    "        for metric in [wmap[key] for key,value in kwargs.items() if value]:\n",
    "            for key,value in clfs.items():\n",
    "                pylab.plot(value.index,value[metric],label=key)\n",
    "                pylab.xlabel(value.index.name)\n",
    "                pylab.ylabel(value[metric].name)\n",
    "                pylab.legend(bbox_to_anchor=(1.05, 1), loc=2, borderaxespad=0.)\n",
    "                pylab.grid()\n",
    "                title = \"\".join([value.index.name,\" vs \",value[metric].name])\n",
    "                pylab.title(title)\n",
    "                if devs:\n",
    "                    pylab.fill_between(value.index, value[metric] - devs[key][metric],\n",
    "                                       value[metric] + devs[key][metric], alpha=0.1,color=\"r\")\n",
    "            pylab.show()"
   ]
  },
  {
   "cell_type": "code",
   "execution_count": 26,
   "metadata": {
    "collapsed": false
   },
   "outputs": [
    {
     "data": {
      "image/png": "[encoded data removed]",
      "text/plain": [
       "<matplotlib.figure.Figure at 0x7f1975f2ae50>"
      ]
     },
     "metadata": {},
     "output_type": "display_data"
    },
    {
     "data": {
      "image/png": "[encoded data removed]",
      "text/plain": [
       "<matplotlib.figure.Figure at 0x7f1975cbacd0>"
      ]
     },
     "metadata": {},
     "output_type": "display_data"
    },
    {
     "data": {
      "image/png": "[encoded data removed]",
      "text/plain": [
       "<matplotlib.figure.Figure at 0x7f1975dcae10>"
      ]
     },
     "metadata": {},
     "output_type": "display_data"
    },
    {
     "data": {
      "image/png": "[encoded data removed]",
      "text/plain": [
       "<matplotlib.figure.Figure at 0x7f1975ed7b90>"
      ]
     },
     "metadata": {},
     "output_type": "display_data"
    }
   ],
   "source": [
    "cv = StratifiedShuffleSplit(y_all, n_iter=30, test_size=0.24, random_state=42)\n",
    "cvlist = [MultinomialNB(),LogisticRegression(),SVC()]\n",
    "clfs,devs = classifier_perf(cvlist,X_all,y_all,cv=cv)\n",
    "plotClfCompare(clfs,devs,test_score =True,train_score=True, \n",
    "               predict_time=True,train_time=True)"
   ]
  },
  {
   "cell_type": "markdown",
   "metadata": {},
   "source": [
    "The model is evaluated on **_three factors_**:\n",
    "\n",
    "1. Its **F<sub>1</sub> score**, summarizing the number of correct positives and correct negatives out of all possible cases. In other words, how well does the model differentiate likely passes from failures?\n",
    "    - From the above three classifier tables it's quite clear that SVMs have a better F<sub>1</sub> score over the other models for the available dataset.\n",
    "    \n",
    "2. The **size of the training set**, preferring smaller training sets over larger ones. That is, how much data does the model need to make a reasonable prediction?\n",
    "    - While SVMs need relatively small training sets to learn complicated functions, Naive Bayes and Logistic Regression need larger datasets to start making reasonable predictions.\n",
    " \n",
    "3. The **computation resources** to make a reliable prediction. How much time and memory is required to correctly identify students that need intervention?\n",
    "    - While SVMs need smaller training sets, they are awfully expensive in terms of computation cost both time and space when compared to the logistic regression and Naive Bayes classifiers.\n",
    "    \n",
    "While all this points to **SVM** as a suitable model, the cost is a concern, it is believed that the **LogisticRegression** model can perform better at a lower cost provided we are able to find the right hyperparameters.\n",
    "Hence we shall proceed with using the **LogisticRegression** model."
   ]
  },
  {
   "cell_type": "markdown",
   "metadata": {},
   "source": [
    "### Logistic Regression\n",
    "\n",
    "#### About the model\n",
    "As discussed earlier logistic regression is a _linear statistical model_. Unlike regression, which outputs a continuous value, this model doesn't predict a numerical value instead, its output is a **_probability_** that the given input belongs to a certain class. It operates under the assumption that the given inputs, if plotted in a space, can be separated into two *\"regions\"*, one for each class, by a linear(**straight**)boundary aka. the decision boundary.\n",
    "\n",
    "<img src=\"Decision_boundary.png\" title=\"A representation of the Decision Boundary\">\n",
    "\n",
    "#### How does it make a prediction ?\n",
    "Concretely, logistic regression finds a hypothesis function which outputs a probability value between [0,1] that the given input belongs to a certain class. The probability can be intuitively derived from the distance of the input point from the decision boundary. The greater the distance between the decision boundary and the given point, the greater is the probability of the point belonging to a certain class. However, the distance between a point and the decision boundary can vary from [0, &infin;], this is turned to a probability between [0,1] using a logarithmic scaling function. Once such scaling function is the sigmoid function shown below.\n",
    "\n",
    "<img src=\"sigmoid.png\" title=\"A sigmoid function\">\n",
    "\n",
    "Using the above curve the logistic model would predict a value of 1 for any point that is to the right of the decision boundary and 0 for any point that is to its left. Here, the 1 and 0 are the classes that the model determines for a given data point. for instance, 1 represents classifying the red points and 0 represents classifying the blue points.\n",
    "\n",
    "#### How does it learn ?\n",
    "\n",
    "The learning algorithm uses the training dataset to find the right hypotheses function that approximates the relationship between the input data and the output class. The right hypothesis function and decision boundary is learned using the probability that a training point is classified correctly by the model. Every wrongly classified point would result in a cost/error that the learning algorithm aims to reduce. The average probability over the entire training dataset would give the likelihood that a random data point is rightly classified by the hypotheses. The learning objective is to find an hypothesis function/decision boundary that increases this likelihood of classifying a randomly chosen point correctly and reduces the error in classification.\n",
    "\n",
    "#### Notes on implementation\n",
    "Since, the model is probabilistic in its output, it is required that we define a threshold value of probability for the model to make an actual prediction. In the case of the student intervention system, 0.50 seems appropriate because if there is even a 0.50 chance that a student might not pass it's justifiable to provide the student with the necessary support to graduate.\n",
    "\n",
    "In logistic regression an hyperparameter called the **regularization parameter** **(_C_)** can be used to control the complexity of the model. The complexity affects the bias/variance of the model and hence we shall be using the GridSearchCV algorithm to find the optimal value of **_C_** that results in the right tradeoff between the bias and variance of the model. Further the **_C_** shall be searched using the **_l<sub>1</sub>_** and **_l<sub>2</sub>_** that defines how to deal with sparse and correlated predictors."
   ]
  },
  {
   "cell_type": "code",
   "execution_count": 27,
   "metadata": {
    "collapsed": false
   },
   "outputs": [],
   "source": [
    "params = {\"C\":np.linspace(0.001,1,200),\"penalty\":[\"l1\",\"l2\"],\"solver\":[\"liblinear\"]}\n",
    "clf = LogisticRegression(random_state=42)\n",
    "cv = StratifiedShuffleSplit(y_all,n_iter=25,test_size=0.24)\n",
    "from sklearn.grid_search import GridSearchCV"
   ]
  },
  {
   "cell_type": "code",
   "execution_count": 28,
   "metadata": {
    "collapsed": false
   },
   "outputs": [
    {
     "name": "stderr",
     "output_type": "stream",
     "text": [
      "/home/bharat/anaconda2/lib/python2.7/site-packages/sklearn/metrics/classification.py:1074: UndefinedMetricWarning: F-score is ill-defined and being set to 0.0 due to no predicted samples.\n",
      "  'precision', 'predicted', average, warn_for)\n",
      "/home/bharat/anaconda2/lib/python2.7/site-packages/sklearn/metrics/classification.py:1074: UndefinedMetricWarning: F-score is ill-defined and being set to 0.0 due to no predicted samples.\n",
      "  'precision', 'predicted', average, warn_for)\n",
      "/home/bharat/anaconda2/lib/python2.7/site-packages/sklearn/metrics/classification.py:1074: UndefinedMetricWarning: F-score is ill-defined and being set to 0.0 due to no predicted samples.\n",
      "  'precision', 'predicted', average, warn_for)\n",
      "/home/bharat/anaconda2/lib/python2.7/site-packages/sklearn/metrics/classification.py:1074: UndefinedMetricWarning: F-score is ill-defined and being set to 0.0 due to no predicted samples.\n",
      "  'precision', 'predicted', average, warn_for)\n"
     ]
    },
    {
     "data": {
      "text/plain": [
       "GridSearchCV(cv=StratifiedShuffleSplit(labels=[0 0 ..., 1 0], n_iter=25, test_size=0.24, random_state=None),\n",
       "       error_score='raise',\n",
       "       estimator=LogisticRegression(C=1.0, class_weight=None, dual=False, fit_intercept=True,\n",
       "          intercept_scaling=1, max_iter=100, multi_class='ovr', n_jobs=1,\n",
       "          penalty='l2', random_state=42, solver='liblinear', tol=0.0001,\n",
       "          verbose=0, warm_start=False),\n",
       "       fit_params={}, iid=True, n_jobs=4,\n",
       "       param_grid={'penalty': ['l1', 'l2'], 'C': array([ 0.001  ,  0.00602, ...,  0.99498,  1.     ]), 'solver': ['liblinear']},\n",
       "       pre_dispatch='2*n_jobs', refit=True, scoring='f1', verbose=0)"
      ]
     },
     "execution_count": 28,
     "metadata": {},
     "output_type": "execute_result"
    }
   ],
   "source": [
    "gclf = GridSearchCV(clf,param_grid=params,scoring=\"f1\",cv=cv,n_jobs=4)\n",
    "gclf.fit(X_all,y_all)"
   ]
  },
  {
   "cell_type": "code",
   "execution_count": 29,
   "metadata": {
    "collapsed": false
   },
   "outputs": [
    {
     "name": "stdout",
     "output_type": "stream",
     "text": [
      "{'penalty': 'l1', 'C': 0.1365427135678392, 'solver': 'liblinear'}\n"
     ]
    }
   ],
   "source": [
    "print gclf.best_params_"
   ]
  },
  {
   "cell_type": "markdown",
   "metadata": {},
   "source": [
    "### The final f<sub>1</sub> score of the model is:"
   ]
  },
  {
   "cell_type": "code",
   "execution_count": 30,
   "metadata": {
    "collapsed": false
   },
   "outputs": [
    {
     "name": "stdout",
     "output_type": "stream",
     "text": [
      "F1 Score: 0.822\n"
     ]
    }
   ],
   "source": [
    "print \"F1 Score: {:.3f}\".format(gclf.best_score_)"
   ]
  }
 ],
 "metadata": {
  "kernelspec": {
   "display_name": "Python 2",
   "language": "python",
   "name": "python2"
  },
  "language_info": {
   "codemirror_mode": {
    "name": "ipython",
    "version": 2
   },
   "file_extension": ".py",
   "mimetype": "text/x-python",
   "name": "python",
   "nbconvert_exporter": "python",
   "pygments_lexer": "ipython2",
   "version": "2.7.11"
  }
 },
 "nbformat": 4,
 "nbformat_minor": 0
}
