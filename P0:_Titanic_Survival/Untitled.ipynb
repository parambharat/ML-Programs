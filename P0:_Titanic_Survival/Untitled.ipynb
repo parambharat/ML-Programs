{
 "cells": [
  {
   "cell_type": "code",
   "execution_count": 1,
   "metadata": {
    "collapsed": true
   },
   "outputs": [],
   "source": [
    "%matplotlib inline\n",
    "import pandas as pd\n",
    "import numpy as np\n",
    "import matplotlib.pyplot as plt\n",
    "from sklearn.tree import DecisionTreeClassifier as dt\n",
    "from sklearn.cross_validation import ShuffleSplit, train_test_split\n",
    "from sklearn.metrics import make_scorer,accuracy_score\n",
    "from sklearn.grid_search import GridSearchCV"
   ]
  },
  {
   "cell_type": "code",
   "execution_count": 2,
   "metadata": {
    "collapsed": false
   },
   "outputs": [],
   "source": [
    "t_data = pd.read_csv('titanic_data.csv')\n",
    "l_data = t_data.Survived\n",
    "t_data = t_data.drop(['Name','PassengerId','Ticket','Cabin','Embarked'],axis=1)\n",
    "def sexter(data): return 1 if data == 'female' else 0\n",
    "t_data.Sex = t_data['Sex'].apply(sexter)\n",
    "t_data.head()\n",
    "t_data.fillna(0,inplace=True)"
   ]
  },
  {
   "cell_type": "code",
   "execution_count": 3,
   "metadata": {
    "collapsed": false
   },
   "outputs": [
    {
     "data": {
      "text/html": [
       "<div>\n",
       "<table border=\"1\" class=\"dataframe\">\n",
       "  <thead>\n",
       "    <tr style=\"text-align: right;\">\n",
       "      <th></th>\n",
       "      <th>Survived</th>\n",
       "      <th>Pclass</th>\n",
       "      <th>Sex</th>\n",
       "      <th>Age</th>\n",
       "      <th>SibSp</th>\n",
       "      <th>Parch</th>\n",
       "      <th>Fare</th>\n",
       "    </tr>\n",
       "  </thead>\n",
       "  <tbody>\n",
       "    <tr>\n",
       "      <th>0</th>\n",
       "      <td>0</td>\n",
       "      <td>3</td>\n",
       "      <td>0</td>\n",
       "      <td>22</td>\n",
       "      <td>1</td>\n",
       "      <td>0</td>\n",
       "      <td>7.2500</td>\n",
       "    </tr>\n",
       "    <tr>\n",
       "      <th>1</th>\n",
       "      <td>1</td>\n",
       "      <td>1</td>\n",
       "      <td>1</td>\n",
       "      <td>38</td>\n",
       "      <td>1</td>\n",
       "      <td>0</td>\n",
       "      <td>71.2833</td>\n",
       "    </tr>\n",
       "    <tr>\n",
       "      <th>2</th>\n",
       "      <td>1</td>\n",
       "      <td>3</td>\n",
       "      <td>1</td>\n",
       "      <td>26</td>\n",
       "      <td>0</td>\n",
       "      <td>0</td>\n",
       "      <td>7.9250</td>\n",
       "    </tr>\n",
       "    <tr>\n",
       "      <th>3</th>\n",
       "      <td>1</td>\n",
       "      <td>1</td>\n",
       "      <td>1</td>\n",
       "      <td>35</td>\n",
       "      <td>1</td>\n",
       "      <td>0</td>\n",
       "      <td>53.1000</td>\n",
       "    </tr>\n",
       "    <tr>\n",
       "      <th>4</th>\n",
       "      <td>0</td>\n",
       "      <td>3</td>\n",
       "      <td>0</td>\n",
       "      <td>35</td>\n",
       "      <td>0</td>\n",
       "      <td>0</td>\n",
       "      <td>8.0500</td>\n",
       "    </tr>\n",
       "  </tbody>\n",
       "</table>\n",
       "</div>"
      ],
      "text/plain": [
       "   Survived  Pclass  Sex  Age  SibSp  Parch     Fare\n",
       "0         0       3    0   22      1      0   7.2500\n",
       "1         1       1    1   38      1      0  71.2833\n",
       "2         1       3    1   26      0      0   7.9250\n",
       "3         1       1    1   35      1      0  53.1000\n",
       "4         0       3    0   35      0      0   8.0500"
      ]
     },
     "execution_count": 3,
     "metadata": {},
     "output_type": "execute_result"
    }
   ],
   "source": [
    "t_data.head()"
   ]
  },
  {
   "cell_type": "code",
   "execution_count": 30,
   "metadata": {
    "collapsed": false
   },
   "outputs": [
    {
     "name": "stdout",
     "output_type": "stream",
     "text": [
      "Pclass 1, Sex, 0 dead = 77, dead_p = 0.14\n",
      "Pclass 1, Sex, 0 alive = 45, alive_p = 0.13\n",
      "Pclass 1, Sex, 1 dead = 3, dead_p = 0.01\n",
      "Pclass 1, Sex, 1 alive = 91, alive_p = 0.27\n",
      "Pclass 2, Sex, 0 dead = 91, dead_p = 0.17\n",
      "Pclass 2, Sex, 0 alive = 17, alive_p = 0.05\n",
      "Pclass 2, Sex, 1 dead = 6, dead_p = 0.01\n",
      "Pclass 2, Sex, 1 alive = 70, alive_p = 0.20\n",
      "Pclass 3, Sex, 0 dead = 300, dead_p = 0.55\n",
      "Pclass 3, Sex, 0 alive = 47, alive_p = 0.14\n",
      "Pclass 3, Sex, 1 dead = 72, dead_p = 0.13\n",
      "Pclass 3, Sex, 1 alive = 72, alive_p = 0.21\n"
     ]
    }
   ],
   "source": [
    "for group,data in t_data.groupby(['Pclass','Sex']):\n",
    "    dead = data.Survived.value_counts()[0]\n",
    "    dead_p = float(dead)/t_data.Survived.value_counts()[0]\n",
    "    alive = data.Survived.value_counts()[1]\n",
    "    alive_p = float(alive)/t_data.Survived.value_counts()[1]\n",
    "    print ('Pclass %i, Sex, %i dead = %i, dead_p = %0.2f'% (group[0],group[1],dead,dead_p))\n",
    "    print ('Pclass %i, Sex, %i alive = %i, alive_p = %0.2f' % (group[0],group[1],alive,alive_p))"
   ]
  },
  {
   "cell_type": "code",
   "execution_count": null,
   "metadata": {
    "collapsed": false
   },
   "outputs": [],
   "source": []
  },
  {
   "cell_type": "code",
   "execution_count": null,
   "metadata": {
    "collapsed": false
   },
   "outputs": [],
   "source": []
  },
  {
   "cell_type": "code",
   "execution_count": null,
   "metadata": {
    "collapsed": false
   },
   "outputs": [],
   "source": []
  },
  {
   "cell_type": "code",
   "execution_count": null,
   "metadata": {
    "collapsed": false
   },
   "outputs": [],
   "source": []
  },
  {
   "cell_type": "code",
   "execution_count": null,
   "metadata": {
    "collapsed": true
   },
   "outputs": [],
   "source": []
  }
 ],
 "metadata": {
  "kernelspec": {
   "display_name": "Python 2",
   "language": "python",
   "name": "python2"
  },
  "language_info": {
   "codemirror_mode": {
    "name": "ipython",
    "version": 2
   },
   "file_extension": ".py",
   "mimetype": "text/x-python",
   "name": "python",
   "nbconvert_exporter": "python",
   "pygments_lexer": "ipython2",
   "version": "2.7.11"
  }
 },
 "nbformat": 4,
 "nbformat_minor": 0
}
