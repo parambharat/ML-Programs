{
 "cells": [
  {
   "cell_type": "code",
   "execution_count": 1,
   "metadata": {
    "collapsed": true
   },
   "outputs": [],
   "source": [
    "import pandas as pd\n",
    "import numpy as np"
   ]
  },
  {
   "cell_type": "code",
   "execution_count": 2,
   "metadata": {
    "collapsed": false
   },
   "outputs": [
    {
     "data": {
      "text/plain": [
       "395"
      ]
     },
     "execution_count": 2,
     "metadata": {},
     "output_type": "execute_result"
    }
   ],
   "source": [
    "data = pd.read_csv(\"student-data.csv\")\n",
    "pd.set_option('display.max_columns', None)"
   ]
  },
  {
   "cell_type": "code",
   "execution_count": 3,
   "metadata": {
    "collapsed": false
   },
   "outputs": [],
   "source": [
    "def preprocess(data):\n",
    "    out = pd.DataFrame(index = data.index)\n",
    "    for col,col_data in data.iteritems():\n",
    "        if col_data.dtype == object:\n",
    "            col_data = col_data.replace(['yes','no'],[1,0]) \n",
    "        if col_data.dtype == object:\n",
    "            col_data = pd.get_dummies(col_data,prefix=col)\n",
    "        out = out.join(col_data)\n",
    "    return out"
   ]
  },
  {
   "cell_type": "code",
   "execution_count": 4,
   "metadata": {
    "collapsed": false
   },
   "outputs": [],
   "source": [
    "data = preprocess(data)\n",
    "feature_list = data.columns[:-1]\n",
    "targets = data.columns[-1]\n",
    "X = data[feature_list]\n",
    "y = data[targets]\n",
    "X = X.values\n",
    "y = y.values"
   ]
  },
  {
   "cell_type": "code",
   "execution_count": 5,
   "metadata": {
    "collapsed": false
   },
   "outputs": [],
   "source": [
    "from sklearn.preprocessing import MinMaxScaler\n",
    "sclr = MinMaxScaler()\n",
    "X_new = X\n",
    "X_new[:,4] = sclr.fit_transform(X[:,4].reshape(-1,1)).reshape(-1)\n",
    "X_new[:,-1] = sclr.fit_transform(X[:,-1].reshape(-1,1)).reshape(-1)"
   ]
  },
  {
   "cell_type": "code",
   "execution_count": 6,
   "metadata": {
    "collapsed": false
   },
   "outputs": [],
   "source": [
    "from sklearn.tree import DecisionTreeClassifier\n",
    "from sklearn.linear_model import LogisticRegression\n",
    "from sklearn.cross_validation import StratifiedShuffleSplit\n",
    "from sklearn.ensemble import RandomForestClassifier, AdaBoostClassifier, GradientBoostingClassifier\n",
    "from sklearn.naive_bayes import MultinomialNB, GaussianNB\n",
    "from sklearn.learning_curve import learning_curve\n",
    "from sklearn.svm import SVC\n",
    "%matplotlib inline\n",
    "from matplotlib import pylab"
   ]
  },
  {
   "cell_type": "code",
   "execution_count": 7,
   "metadata": {
    "collapsed": false
   },
   "outputs": [],
   "source": [
    "def plot_curve(clf,X,y,metric=\"f1\",cv_size=0.25):\n",
    "    cv = StratifiedShuffleSplit(y,test_size=cv_size,random_state=42)\n",
    "    train_size,train_score,test_score = learning_curve(clf,X,y,scoring=metric,cv=cv)\n",
    "    test_mean = np.mean(test_score,axis=1)\n",
    "    test_dev = np.std(test_score,axis=1)\n",
    "    train_mean = np.mean(train_score,axis=1)\n",
    "    train_dev = np.std(train_score,axis=1)\n",
    "    print test_mean[-1], train_mean[-1]\n",
    "    pylab.plot(train_size,train_mean,label=\"train\")\n",
    "    pylab.fill_between(train_size, train_mean - train_dev,train_mean + train_dev, alpha=0.1,color=\"r\")\n",
    "    pylab.plot(train_size,test_mean,label=\"test\")\n",
    "    pylab.fill_between(train_size, test_mean - test_dev,test_mean + test_dev, alpha=0.1,color=\"r\")\n",
    "    pylab.grid()\n",
    "    pylab.legend(bbox_to_anchor=(1.05, 1), loc=2, borderaxespad=0.)\n",
    "    pylab.title(clf.__class__.__name__)\n",
    "    #pylab.show()\n",
    "    "
   ]
  },
  {
   "cell_type": "code",
   "execution_count": 8,
   "metadata": {
    "collapsed": false
   },
   "outputs": [],
   "source": [
    "NBclf = MultinomialNB()\n",
    "SVclf = SVC()\n",
    "LRclf = LogisticRegression()"
   ]
  },
  {
   "cell_type": "code",
   "execution_count": 23,
   "metadata": {
    "collapsed": true
   },
   "outputs": [],
   "source": [
    "from sklearn.cross_validation import train_test_split\n",
    "X_train,X_test,y_train,y_test = train_test_split(X,y,test_size=0.24,random_state=18)"
   ]
  },
  {
   "cell_type": "code",
   "execution_count": 44,
   "metadata": {
    "collapsed": true
   },
   "outputs": [],
   "source": [
    "import time\n",
    "def train_clf(clf,X_train,y_train):\n",
    "    #print \"Training {}...\".format(clf.__class__.__name__)\n",
    "    start = time.time()\n",
    "    clf.fit(X_train, y_train)\n",
    "    end = time.time()\n",
    "    #print \"Done!\\nTraining time (secs): {:.3f}\".format(end - start)\n",
    "    return end-start"
   ]
  },
  {
   "cell_type": "code",
   "execution_count": 45,
   "metadata": {
    "collapsed": false
   },
   "outputs": [],
   "source": [
    "from sklearn.metrics import f1_score\n",
    "\n",
    "def predict_labels(clf, features, target):\n",
    "    #print \"Predicting labels using {}...\".format(clf.__class__.__name__)\n",
    "    start = time.time()\n",
    "    y_pred = clf.predict(features)\n",
    "    end = time.time()\n",
    "    #print \"Done!\\nPrediction time (secs): {:.3f}\".format(end - start)\n",
    "    return end-start,f1_score(target, y_pred, pos_label=1)"
   ]
  },
  {
   "cell_type": "code",
   "execution_count": 46,
   "metadata": {
    "collapsed": true
   },
   "outputs": [],
   "source": [
    "def train_predict(clf, X_train, y_train, X_test, y_test):\n",
    "    #print \"------------------------------------------\"\n",
    "    #print \"Training set size: {}\".format(len(X_train))\n",
    "    train_time = train_clf(clf, X_train, y_train)\n",
    "    #print \"F1 score for training set: {}\".format(predict_labels(clf, X_train, y_train))\n",
    "    #print \"F1 score for test set: {}\".format(predict_labels(clf, X_test, y_test))\n",
    "    predict_train_time,predict_train_score = predict_labels(clf, X_train, y_train)\n",
    "    predict_test_time,predict_test_score = predict_labels(clf, X_test, y_test)\n",
    "    return {\"classifier\":clf.__class__.__name__,\"train_size\":len(X_train),\"training_time\":train_time,\n",
    "            \"Predict_train_time\":predict_train_time,\"predict_train_score\":predict_train_score,\n",
    "            \"predict_test_time\":predict_test_time,\"predict_test_score\":predict_test_score}"
   ]
  },
  {
   "cell_type": "code",
   "execution_count": 124,
   "metadata": {
    "collapsed": false
   },
   "outputs": [
    {
     "ename": "TypeError",
     "evalue": "list indices must be integers, not str",
     "output_type": "error",
     "traceback": [
      "\u001b[1;31m---------------------------------------------------------------------------\u001b[0m",
      "\u001b[1;31mTypeError\u001b[0m                                 Traceback (most recent call last)",
      "\u001b[1;32m<ipython-input-124-f92733c78856>\u001b[0m in \u001b[0;36m<module>\u001b[1;34m()\u001b[0m\n\u001b[0;32m      6\u001b[0m         \u001b[0mperf\u001b[0m\u001b[1;33m.\u001b[0m\u001b[0mappend\u001b[0m\u001b[1;33m(\u001b[0m\u001b[0mtrain_predict\u001b[0m\u001b[1;33m(\u001b[0m\u001b[0mclf\u001b[0m\u001b[1;33m,\u001b[0m \u001b[0mX_train\u001b[0m\u001b[1;33m[\u001b[0m\u001b[1;33m:\u001b[0m\u001b[0msize\u001b[0m\u001b[1;33m]\u001b[0m\u001b[1;33m,\u001b[0m \u001b[0my_train\u001b[0m\u001b[1;33m[\u001b[0m\u001b[1;33m:\u001b[0m\u001b[0msize\u001b[0m\u001b[1;33m]\u001b[0m\u001b[1;33m,\u001b[0m \u001b[0mX_test\u001b[0m\u001b[1;33m,\u001b[0m \u001b[0my_test\u001b[0m\u001b[1;33m)\u001b[0m\u001b[1;33m)\u001b[0m\u001b[1;33m\u001b[0m\u001b[0m\n\u001b[0;32m      7\u001b[0m \u001b[0mAllclf\u001b[0m \u001b[1;33m=\u001b[0m \u001b[0mpd\u001b[0m\u001b[1;33m.\u001b[0m\u001b[0mDataFrame\u001b[0m\u001b[1;33m(\u001b[0m\u001b[0mperf\u001b[0m\u001b[1;33m)\u001b[0m\u001b[1;33m\u001b[0m\u001b[0m\n\u001b[1;32m----> 8\u001b[1;33m \u001b[0mperf\u001b[0m\u001b[1;33m[\u001b[0m\u001b[1;34m\"train_size\"\u001b[0m\u001b[1;33m]\u001b[0m\u001b[1;33m\u001b[0m\u001b[0m\n\u001b[0m",
      "\u001b[1;31mTypeError\u001b[0m: list indices must be integers, not str"
     ]
    }
   ],
   "source": [
    "perf = []\n",
    "for size in [100,200,300]:\n",
    "        perf.append(train_predict(clf, X_train[:size], y_train[:size], X_test, y_test))\n",
    "Allclf = pd.DataFrame(perf)"
   ]
  },
  {
   "cell_type": "code",
   "execution_count": 119,
   "metadata": {
    "collapsed": false
   },
   "outputs": [],
   "source": [
    "MultinomialNB_perf = Allclf[Allclf.classifier==\"MultinomialNB\"]\n",
    "LogisticReg_perf = Allclf[Allclf.classifier==\"LogisticRegression\"]\n",
    "SVC_perf = Allclf[Allclf.classifier==\"SVC\"]"
   ]
  },
  {
   "cell_type": "code",
   "execution_count": 120,
   "metadata": {
    "collapsed": false
   },
   "outputs": [
    {
     "data": {
      "text/html": [
       "<div>\n",
       "<table border=\"1\" class=\"dataframe\">\n",
       "  <thead>\n",
       "    <tr style=\"text-align: right;\">\n",
       "      <th></th>\n",
       "      <th>Predict_train_time</th>\n",
       "      <th>classifier</th>\n",
       "      <th>predict_test_score</th>\n",
       "      <th>predict_test_time</th>\n",
       "      <th>predict_train_score</th>\n",
       "      <th>training_time</th>\n",
       "    </tr>\n",
       "    <tr>\n",
       "      <th>train_size</th>\n",
       "      <th></th>\n",
       "      <th></th>\n",
       "      <th></th>\n",
       "      <th></th>\n",
       "      <th></th>\n",
       "      <th></th>\n",
       "    </tr>\n",
       "  </thead>\n",
       "  <tbody>\n",
       "    <tr>\n",
       "      <th>100</th>\n",
       "      <td>0.000136</td>\n",
       "      <td>MultinomialNB</td>\n",
       "      <td>0.855263</td>\n",
       "      <td>0.000105</td>\n",
       "      <td>0.794118</td>\n",
       "      <td>0.001508</td>\n",
       "    </tr>\n",
       "    <tr>\n",
       "      <th>200</th>\n",
       "      <td>0.000114</td>\n",
       "      <td>MultinomialNB</td>\n",
       "      <td>0.866242</td>\n",
       "      <td>0.000100</td>\n",
       "      <td>0.825503</td>\n",
       "      <td>0.001205</td>\n",
       "    </tr>\n",
       "    <tr>\n",
       "      <th>300</th>\n",
       "      <td>0.000115</td>\n",
       "      <td>MultinomialNB</td>\n",
       "      <td>0.864516</td>\n",
       "      <td>0.000093</td>\n",
       "      <td>0.797235</td>\n",
       "      <td>0.001200</td>\n",
       "    </tr>\n",
       "  </tbody>\n",
       "</table>\n",
       "</div>"
      ],
      "text/plain": [
       "            Predict_train_time     classifier  predict_test_score  \\\n",
       "train_size                                                          \n",
       "100                   0.000136  MultinomialNB            0.855263   \n",
       "200                   0.000114  MultinomialNB            0.866242   \n",
       "300                   0.000115  MultinomialNB            0.864516   \n",
       "\n",
       "            predict_test_time  predict_train_score  training_time  \n",
       "train_size                                                         \n",
       "100                  0.000105             0.794118       0.001508  \n",
       "200                  0.000100             0.825503       0.001205  \n",
       "300                  0.000093             0.797235       0.001200  "
      ]
     },
     "execution_count": 120,
     "metadata": {},
     "output_type": "execute_result"
    }
   ],
   "source": [
    "MultinomialNB_perf"
   ]
  },
  {
   "cell_type": "code",
   "execution_count": 83,
   "metadata": {
    "collapsed": false
   },
   "outputs": [
    {
     "data": {
      "text/html": [
       "<div>\n",
       "<table border=\"1\" class=\"dataframe\">\n",
       "  <thead>\n",
       "    <tr style=\"text-align: right;\">\n",
       "      <th></th>\n",
       "      <th>Predict_train_time</th>\n",
       "      <th>classifier</th>\n",
       "      <th>predict_test_score</th>\n",
       "      <th>predict_test_time</th>\n",
       "      <th>predict_train_score</th>\n",
       "      <th>train_size</th>\n",
       "      <th>training_time</th>\n",
       "    </tr>\n",
       "  </thead>\n",
       "  <tbody>\n",
       "    <tr>\n",
       "      <th>0</th>\n",
       "      <td>0.000948</td>\n",
       "      <td>SVC</td>\n",
       "      <td>0.841463</td>\n",
       "      <td>0.000892</td>\n",
       "      <td>0.782609</td>\n",
       "      <td>100</td>\n",
       "      <td>0.001455</td>\n",
       "    </tr>\n",
       "    <tr>\n",
       "      <th>1</th>\n",
       "      <td>0.003824</td>\n",
       "      <td>SVC</td>\n",
       "      <td>0.846626</td>\n",
       "      <td>0.002317</td>\n",
       "      <td>0.824242</td>\n",
       "      <td>200</td>\n",
       "      <td>0.004054</td>\n",
       "    </tr>\n",
       "    <tr>\n",
       "      <th>2</th>\n",
       "      <td>0.009631</td>\n",
       "      <td>SVC</td>\n",
       "      <td>0.867925</td>\n",
       "      <td>0.001943</td>\n",
       "      <td>0.817021</td>\n",
       "      <td>300</td>\n",
       "      <td>0.011518</td>\n",
       "    </tr>\n",
       "  </tbody>\n",
       "</table>\n",
       "</div>"
      ],
      "text/plain": [
       "   Predict_train_time classifier  predict_test_score  predict_test_time  \\\n",
       "0            0.000948        SVC            0.841463           0.000892   \n",
       "1            0.003824        SVC            0.846626           0.002317   \n",
       "2            0.009631        SVC            0.867925           0.001943   \n",
       "\n",
       "   predict_train_score  train_size  training_time  \n",
       "0             0.782609         100       0.001455  \n",
       "1             0.824242         200       0.004054  \n",
       "2             0.817021         300       0.011518  "
      ]
     },
     "execution_count": 83,
     "metadata": {},
     "output_type": "execute_result"
    }
   ],
   "source": [
    "SVC_perf"
   ]
  },
  {
   "cell_type": "code",
   "execution_count": 84,
   "metadata": {
    "collapsed": false
   },
   "outputs": [
    {
     "data": {
      "text/html": [
       "<div>\n",
       "<table border=\"1\" class=\"dataframe\">\n",
       "  <thead>\n",
       "    <tr style=\"text-align: right;\">\n",
       "      <th></th>\n",
       "      <th>Predict_train_time</th>\n",
       "      <th>classifier</th>\n",
       "      <th>predict_test_score</th>\n",
       "      <th>predict_test_time</th>\n",
       "      <th>predict_train_score</th>\n",
       "      <th>train_size</th>\n",
       "      <th>training_time</th>\n",
       "    </tr>\n",
       "  </thead>\n",
       "  <tbody>\n",
       "    <tr>\n",
       "      <th>0</th>\n",
       "      <td>0.000119</td>\n",
       "      <td>LogisticRegression</td>\n",
       "      <td>0.824324</td>\n",
       "      <td>0.000069</td>\n",
       "      <td>0.848485</td>\n",
       "      <td>100</td>\n",
       "      <td>0.000808</td>\n",
       "    </tr>\n",
       "    <tr>\n",
       "      <th>1</th>\n",
       "      <td>0.000086</td>\n",
       "      <td>LogisticRegression</td>\n",
       "      <td>0.818182</td>\n",
       "      <td>0.000065</td>\n",
       "      <td>0.847458</td>\n",
       "      <td>200</td>\n",
       "      <td>0.001457</td>\n",
       "    </tr>\n",
       "    <tr>\n",
       "      <th>2</th>\n",
       "      <td>0.000098</td>\n",
       "      <td>LogisticRegression</td>\n",
       "      <td>0.829932</td>\n",
       "      <td>0.000064</td>\n",
       "      <td>0.823256</td>\n",
       "      <td>300</td>\n",
       "      <td>0.001954</td>\n",
       "    </tr>\n",
       "  </tbody>\n",
       "</table>\n",
       "</div>"
      ],
      "text/plain": [
       "   Predict_train_time          classifier  predict_test_score  \\\n",
       "0            0.000119  LogisticRegression            0.824324   \n",
       "1            0.000086  LogisticRegression            0.818182   \n",
       "2            0.000098  LogisticRegression            0.829932   \n",
       "\n",
       "   predict_test_time  predict_train_score  train_size  training_time  \n",
       "0           0.000069             0.848485         100       0.000808  \n",
       "1           0.000065             0.847458         200       0.001457  \n",
       "2           0.000064             0.823256         300       0.001954  "
      ]
     },
     "execution_count": 84,
     "metadata": {},
     "output_type": "execute_result"
    }
   ],
   "source": [
    "LogisticReg_perf"
   ]
  },
  {
   "cell_type": "code",
   "execution_count": 88,
   "metadata": {
    "collapsed": false
   },
   "outputs": [
    {
     "data": {
      "image/png": "[encoded data removed]",
      "text/plain": [
       "<matplotlib.figure.Figure at 0x7f8c1090d5d0>"
      ]
     },
     "metadata": {},
     "output_type": "display_data"
    }
   ],
   "source": [
    "pylab.plot(MultinomialNB_perf.train_size,MultinomialNB_perf.training_time,color=\"Blue\",label=\"MultinomialNB\")\n",
    "pylab.plot(SVC_perf.train_size,SVC_perf.training_time,color=\"Yellow\",label=\"SVC\")\n",
    "pylab.plot(LogisticReg_perf.train_size,LogisticReg_perf.training_time,color=\"Red\",label=\"LogisticReg_perf\")\n",
    "pylab.grid()\n",
    "pylab.legend(bbox_to_anchor=(1.05, 1), loc=2, borderaxespad=0.)\n",
    "pylab.xlabel(\"Training Set Size\")\n",
    "pylab.ylabel(\"Training Time\")\n",
    "pylab.show()"
   ]
  },
  {
   "cell_type": "code",
   "execution_count": 89,
   "metadata": {
    "collapsed": false
   },
   "outputs": [
    {
     "data": {
      "image/png": "[encoded data removed]",
      "text/plain": [
       "<matplotlib.figure.Figure at 0x7f8c107f0c10>"
      ]
     },
     "metadata": {},
     "output_type": "display_data"
    }
   ],
   "source": [
    "pylab.plot(MultinomialNB_perf.train_size,MultinomialNB_perf.predict_test_score,color=\"Blue\",label=\"MultinomialNB\")\n",
    "pylab.plot(SVC_perf.train_size,SVC_perf.predict_test_score,color=\"Yellow\",label=\"SVC\")\n",
    "pylab.plot(LogisticReg_perf.train_size,LogisticReg_perf.predict_test_score,color=\"Red\",label=\"LogisticReg_perf\")\n",
    "pylab.grid()\n",
    "pylab.legend(bbox_to_anchor=(1.05, 1), loc=2, borderaxespad=0.)\n",
    "pylab.xlabel(\"Training Set Size\")\n",
    "pylab.ylabel(\"Test set Score\")\n",
    "pylab.show()"
   ]
  },
  {
   "cell_type": "code",
   "execution_count": 91,
   "metadata": {
    "collapsed": false
   },
   "outputs": [
    {
     "data": {
      "image/png": "[encoded data removed]",
      "text/plain": [
       "<matplotlib.figure.Figure at 0x7f8c1062a490>"
      ]
     },
     "metadata": {},
     "output_type": "display_data"
    }
   ],
   "source": [
    "pylab.plot(MultinomialNB_perf.train_size,MultinomialNB_perf.predict_train_score,color=\"Blue\",label=\"MultinomialNB\")\n",
    "pylab.plot(SVC_perf.train_size,SVC_perf.predict_train_score,color=\"Yellow\",label=\"SVC\")\n",
    "pylab.plot(LogisticReg_perf.train_size,LogisticReg_perf.predict_train_score,color=\"Red\",label=\"LogisticReg_perf\")\n",
    "pylab.grid()\n",
    "pylab.legend(bbox_to_anchor=(1.05, 1), loc=2, borderaxespad=0.)\n",
    "pylab.xlabel(\"Training Set Size\")\n",
    "pylab.ylabel(\"Train set Score\")\n",
    "pylab.show()"
   ]
  },
  {
   "cell_type": "code",
   "execution_count": 107,
   "metadata": {
    "collapsed": true
   },
   "outputs": [],
   "source": [
    "def plotter(data,**kwargs):\n",
    "    if kwargs is not None:\n",
    "        pylab.plot(data.)"
   ]
  },
  {
   "cell_type": "code",
   "execution_count": 108,
   "metadata": {
    "collapsed": false
   },
   "outputs": [
    {
     "name": "stdout",
     "output_type": "stream",
     "text": [
      "train_size\n"
     ]
    }
   ],
   "source": [
    "plotter(10,a=\"train_size\")"
   ]
  },
  {
   "cell_type": "code",
   "execution_count": 114,
   "metadata": {
    "collapsed": false
   },
   "outputs": [
    {
     "data": {
      "text/plain": [
       "<matplotlib.axes._subplots.AxesSubplot at 0x7f8c105442d0>"
      ]
     },
     "execution_count": 114,
     "metadata": {},
     "output_type": "execute_result"
    },
    {
     "data": {
      "image/png": "[encoded data removed]",
      "text/plain": [
       "<matplotlib.figure.Figure at 0x7f8c1049fad0>"
      ]
     },
     "metadata": {},
     "output_type": "display_data"
    }
   ],
   "source": [
    "MultinomialNB_perf.set_index(\"train_size\",inplace=True)\n",
    "MultinomialNB_perf[[\"training_time\"]].plot()"
   ]
  },
  {
   "cell_type": "code",
   "execution_count": 113,
   "metadata": {
    "collapsed": false
   },
   "outputs": [
    {
     "data": {
      "text/plain": [
       "Int64Index([0, 1, 2], dtype='int64')"
      ]
     },
     "execution_count": 113,
     "metadata": {},
     "output_type": "execute_result"
    }
   ],
   "source": [
    "MultinomialNB_perf.index"
   ]
  },
  {
   "cell_type": "code",
   "execution_count": null,
   "metadata": {
    "collapsed": true
   },
   "outputs": [],
   "source": []
  }
 ],
 "metadata": {
  "kernelspec": {
   "display_name": "Python 2",
   "language": "python",
   "name": "python2"
  },
  "language_info": {
   "codemirror_mode": {
    "name": "ipython",
    "version": 2
   },
   "file_extension": ".py",
   "mimetype": "text/x-python",
   "name": "python",
   "nbconvert_exporter": "python",
   "pygments_lexer": "ipython2",
   "version": "2.7.11"
  }
 },
 "nbformat": 4,
 "nbformat_minor": 0
}
